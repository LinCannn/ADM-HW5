{
  "cells": [
    {
      "cell_type": "markdown",
      "metadata": {
        "id": "yodp7Z8no9_z"
      },
      "source": [
        "# Homework 5 - USA Airport Flight Analysis"
      ]
    },
    {
      "cell_type": "code",
      "execution_count": 3,
      "metadata": {
        "id": "dkEmF2yuo9_1"
      },
      "outputs": [],
      "source": [
        "import pandas as pd\n",
        "from typing import Dict, Any, List, Tuple, Set\n",
        "from collections import defaultdict\n",
        "import dash\n",
        "from dash import dcc, html, dash_table\n",
        "import seaborn as sns\n",
        "import matplotlib.pyplot as plt\n",
        "import io\n",
        "import base64\n",
        "import numpy as np\n",
        "\n"
      ]
    },
    {
      "cell_type": "markdown",
      "metadata": {
        "id": "BceBupero9_2"
      },
      "source": [
        "## EDA"
      ]
    },
    {
      "cell_type": "code",
      "execution_count": 4,
      "metadata": {
        "colab": {
          "base_uri": "https://localhost:8080/",
          "height": 554
        },
        "id": "GWWeTmGto9_3",
        "outputId": "2a3026dd-3d32-425d-956b-64a88de5ca76"
      },
      "outputs": [
        {
          "data": {
            "text/plain": [
              "Origin_airport               0\n",
              "Destination_airport          0\n",
              "Origin_city                  0\n",
              "Destination_city             0\n",
              "Passengers                   0\n",
              "Seats                        0\n",
              "Flights                      0\n",
              "Distance                     0\n",
              "Fly_date                     0\n",
              "Origin_population            0\n",
              "Destination_population       0\n",
              "Org_airport_lat           6954\n",
              "Org_airport_long          6954\n",
              "Dest_airport_lat          6807\n",
              "Dest_airport_long         6807\n",
              "dtype: int64"
            ]
          },
          "execution_count": 4,
          "metadata": {},
          "output_type": "execute_result"
        }
      ],
      "source": [
        "\n",
        "file_path = 'archive_usa_airport/Airports2.csv'\n",
        "df = pd.read_csv(file_path)\n",
        "df.isna().sum()"
      ]
    },
    {
      "cell_type": "code",
      "execution_count": 5,
      "metadata": {
        "colab": {
          "base_uri": "https://localhost:8080/"
        },
        "id": "aRXBXIXTo9_4",
        "outputId": "9b837d7c-695a-49e4-a0a2-394972d9db31"
      },
      "outputs": [
        {
          "name": "stdout",
          "output_type": "stream",
          "text": [
            "Numero di aeroporti con coordinate mancanti: 243\n"
          ]
        }
      ],
      "source": [
        "\n",
        "def find_missing_coordinates(df: pd.DataFrame) -> Tuple[Set[Tuple[str, str]], int]:\n",
        "    \"\"\"\n",
        "    Find the airports with missing data.\n",
        "    \"\"\"\n",
        "    missing_org = df[(df['Org_airport_lat'].isna() & df['Org_airport_long'].isna())]\n",
        "    missing_dest = df[(df['Dest_airport_lat'].isna() & df['Dest_airport_long'].isna())]\n",
        "\n",
        "    unique_origin = set(zip(missing_org['Origin_airport'], missing_org['Origin_city']))\n",
        "    unique_dest = set(zip(missing_dest['Destination_airport'], missing_dest['Destination_city']))\n",
        "\n",
        "    unique_airports = unique_origin.union(unique_dest)\n",
        "    return unique_airports, len(unique_airports)\n",
        "unique_airports, missing_count = find_missing_coordinates(df)\n",
        "print(f\"Numero di aeroporti con coordinate mancanti: {missing_count}\")\n",
        "\n",
        "\n"
      ]
    },
    {
      "cell_type": "code",
      "execution_count": 6,
      "metadata": {
        "id": "Doahmqwxo9_4"
      },
      "outputs": [],
      "source": [
        "def export_missing_airports(airports: Set[Tuple[str, str]], output_file: str) -> None:\n",
        "    \"\"\"\n",
        "    Export the missing airports to a CSV file. In order to fetch coordinates through API\n",
        "    \"\"\"\n",
        "    df_missing = pd.DataFrame(list(airports), columns=['Airport Code', 'City'])\n",
        "    df_missing.to_csv(output_file, index=False, sep=';')\n",
        "\n",
        "export_missing_airports(unique_airports, 'archive_usa_airport/airports_without_coordinates.csv')\n",
        "\n"
      ]
    },
    {
      "cell_type": "code",
      "execution_count": 7,
      "metadata": {
        "colab": {
          "base_uri": "https://localhost:8080/",
          "height": 554
        },
        "id": "laBUuYkxo9_4",
        "outputId": "a5fa7f0c-d458-4845-a1cd-36d6115f15da"
      },
      "outputs": [
        {
          "data": {
            "text/plain": [
              "Origin_airport            0\n",
              "Destination_airport       0\n",
              "Origin_city               0\n",
              "Destination_city          0\n",
              "Passengers                0\n",
              "Seats                     0\n",
              "Flights                   0\n",
              "Distance                  0\n",
              "Fly_date                  0\n",
              "Origin_population         0\n",
              "Destination_population    0\n",
              "Org_airport_lat           0\n",
              "Org_airport_long          0\n",
              "Dest_airport_lat          0\n",
              "Dest_airport_long         0\n",
              "dtype: int64"
            ]
          },
          "execution_count": 7,
          "metadata": {},
          "output_type": "execute_result"
        }
      ],
      "source": [
        "\n",
        "coordinates_file = 'archive_usa_airport/airport_coordinates_.csv'\n",
        "coordinates_df = pd.read_csv(coordinates_file, sep=';')\n",
        "\n",
        "def create_airport_mapping(coordinates_df: pd.DataFrame) -> Dict:\n",
        "    \"\"\"\n",
        "    A mapping of airport codes to their corresponding coordinates.\n",
        "    \"\"\"\n",
        "    return coordinates_df.set_index('airport_code')[['latitude', 'longitude']].to_dict(orient='index')\n",
        "\n",
        "airport_mapping = create_airport_mapping(coordinates_df)\n",
        "\n",
        "def fill_missing_coordinates(df: pd.DataFrame, airport_mapping: Dict) -> pd.DataFrame:\n",
        "\n",
        "\n",
        "    df['Org_airport_lat'] = df['Org_airport_lat'].fillna(\n",
        "        df['Origin_airport'].map(lambda x: airport_mapping.get(x, {}).get('latitude'))\n",
        "    )\n",
        "    df['Org_airport_long'] = df['Org_airport_long'].fillna(\n",
        "        df['Origin_airport'].map(lambda x: airport_mapping.get(x, {}).get('longitude'))\n",
        "    )\n",
        "\n",
        "    df['Dest_airport_lat'] = df['Dest_airport_lat'].fillna(\n",
        "        df['Destination_airport'].map(lambda x: airport_mapping.get(x, {}).get('latitude'))\n",
        "    )\n",
        "    df['Dest_airport_long'] = df['Dest_airport_long'].fillna(\n",
        "        df['Destination_airport'].map(lambda x: airport_mapping.get(x, {}).get('longitude'))\n",
        "    )\n",
        "\n",
        "    return df\n",
        "\n",
        "\n",
        "df_final = fill_missing_coordinates(df, airport_mapping)\n",
        "df_final.isna().sum()"
      ]
    },
    {
      "cell_type": "markdown",
      "metadata": {
        "id": "DawzgKgqo9_5"
      },
      "source": [
        "## 1. Flight Network Analysis (Q1)"
      ]
    },
    {
      "cell_type": "markdown",
      "metadata": {
        "id": "yz1h6tyto9_6"
      },
      "source": [
        "### 1.1 analyze_graph_feature"
      ]
    },
    {
      "cell_type": "code",
      "execution_count": 8,
      "metadata": {
        "id": "eZSTXUGlo9_6"
      },
      "outputs": [],
      "source": [
        "from auxiliary_files.flight_network import FlightNetwork\n",
        "from auxiliary_files.GraphAnalysis import GraphAnalysis\n",
        "from typing import Dict\n",
        "\n",
        "def analyze_graph_features(network: FlightNetwork) -> Dict:\n",
        "    \"\"\"Analyze the flight network graph and return key metrics.\"\"\"\n",
        "    # Create an instance of GraphAnalysis\n",
        "    graph_analysis = GraphAnalysis(network)\n",
        "\n",
        "    # Get graph metrics\n",
        "    n_nodes = network.graph.number_of_nodes()\n",
        "    n_edges = network.graph.number_of_edges()\n",
        "    density = graph_analysis.calculate_graph_density(n_nodes, n_edges)\n",
        "\n",
        "    # Get degree metrics\n",
        "    in_degrees, out_degrees = graph_analysis.get_degree_metrics()\n",
        "\n",
        "    # Identify hubs and create hubs table\n",
        "    hubs = graph_analysis.identify_hub_airports()\n",
        "    hubs_table = graph_analysis.create_hubs_table(hubs, in_degrees, out_degrees)\n",
        "\n",
        "    return {\n",
        "        'n_airports': n_nodes,\n",
        "        'n_flights': n_edges,\n",
        "        'density': density,\n",
        "        'in_degrees': in_degrees,\n",
        "        'out_degrees': out_degrees,\n",
        "        'hubs_table': hubs_table,\n",
        "    }\n",
        "\n",
        "\n"
      ]
    },
    {
      "cell_type": "markdown",
      "metadata": {},
      "source": [
        "## 1.2 summarize_graph_features"
      ]
    },
    {
      "cell_type": "code",
      "execution_count": 9,
      "metadata": {},
      "outputs": [
        {
          "data": {
            "text/html": [
              "\n",
              "        <iframe\n",
              "            width=\"100%\"\n",
              "            height=\"650\"\n",
              "            src=\"http://127.0.0.1:8050/\"\n",
              "            frameborder=\"0\"\n",
              "            allowfullscreen\n",
              "            \n",
              "        ></iframe>\n",
              "        "
            ],
            "text/plain": [
              "<IPython.lib.display.IFrame at 0x2039d85e088>"
            ]
          },
          "metadata": {},
          "output_type": "display_data"
        }
      ],
      "source": [
        "\n",
        "app = dash.Dash(__name__)\n",
        "\n",
        "# Initialize FlightNetwork\n",
        "flightnetwork = FlightNetwork()\n",
        "\n",
        "# Create origin and destination series\n",
        "origin_airports = df_final['Origin_airport']\n",
        "destination_airports = df_final['Destination_airport']\n",
        "# Add nodes and edges to the network\n",
        "flightnetwork.add_nodes_and_edges(origin_airports, destination_airports)\n",
        "graph_analysis = GraphAnalysis(flightnetwork)\n",
        "# Define layout directly\n",
        "app.layout = html.Div([\n",
        "    html.H1(\"Flight Network Analysis\"),\n",
        "    html.Div(id=\"summary-text\"),\n",
        "    html.Div([\n",
        "        html.Div([\n",
        "            html.H3(\"In-degree Distribution\"),\n",
        "            html.Img(id=\"in-degree-plot\", style={\"width\": \"100%\", \"height\": \"auto\"})\n",
        "        ], style={\"width\": \"48%\", \"display\": \"inline-block\"}),\n",
        "        html.Div([\n",
        "            html.H3(\"Out-degree Distribution\"),\n",
        "            html.Img(id=\"out-degree-plot\", style={\"width\": \"100%\", \"height\": \"auto\"})\n",
        "        ], style={\"width\": \"48%\", \"display\": \"inline-block\"})\n",
        "    ], style={\"display\": \"flex\", \"justify-content\": \"space-between\", \"margin-top\": \"30px\"}),\n",
        "    html.Div([\n",
        "        html.H3(\"Top Hubs (Airports with highest degree)\"),\n",
        "        dash_table.DataTable(\n",
        "            id='hubs-table',\n",
        "            columns=[{\"name\": col, \"id\": col} for col in ['Airport', 'In-degree', 'Out-degree', 'Total degree']],\n",
        "            style_table={'height': '300px', 'overflowY': 'auto'}\n",
        "        ),\n",
        "    ], style={\"margin-top\": \"40px\"})\n",
        "])\n",
        "\n",
        "@app.callback(\n",
        "    [\n",
        "        dash.dependencies.Output(\"summary-text\", \"children\"),\n",
        "        dash.dependencies.Output(\"in-degree-plot\", \"src\"),\n",
        "        dash.dependencies.Output(\"out-degree-plot\", \"src\"),\n",
        "        dash.dependencies.Output(\"hubs-table\", \"data\"),\n",
        "    ],\n",
        "    [dash.dependencies.Input(\"summary-text\", \"children\")]\n",
        ")\n",
        "def summarize_graph_feature(_):\n",
        "    \n",
        "    results = analyze_graph_features(flightnetwork)\n",
        "    \n",
        "    summary_text = f\"\"\"\n",
        "        Network Analysis Report:\n",
        "        - Number of Airports (Nodes): {results['n_airports']}\n",
        "        - Number of Flights (Edges): {results['n_flights']}\n",
        "                - Graph Density: {results['density']:.4f}\n",
        "    \"\"\"\n",
        "    \n",
        "    in_degree_image = graph_analysis.get_image_from_figure(graph_analysis.plot_degree_distribution(list(results['in_degrees'].values()), \"In-degree\"))\n",
        "    \n",
        "    out_degree_image = graph_analysis.get_image_from_figure(graph_analysis.plot_degree_distribution(list(results['out_degrees'].values()), \"Out-degree\"))\n",
        "    \n",
        "    return summary_text.strip(), in_degree_image, out_degree_image, results['hubs_table'].to_dict('records')\n",
        "\n",
        "if __name__ == \"__main__\":\n",
        "    app.run_server(debug=True)\n"
      ]
    },
    {
      "cell_type": "markdown",
      "metadata": {
        "id": "do5iYnSaBvIg"
      },
      "source": [
        "## 1.3"
      ]
    },
    {
      "cell_type": "markdown",
      "metadata": {
        "id": "3Ui4gVozflyF"
      },
      "source": [
        "### Compute total passenger flow between origin and destination cities."
      ]
    },
    {
      "cell_type": "code",
      "execution_count": 23,
      "metadata": {
        "colab": {
          "base_uri": "https://localhost:8080/",
          "height": 423
        },
        "id": "iSetwlMsFCpK",
        "outputId": "b77d17dc-d879-4b24-b771-518d9f49d85c"
      },
      "outputs": [
        {
          "data": {
            "text/html": [
              "<div>\n",
              "<style scoped>\n",
              "    .dataframe tbody tr th:only-of-type {\n",
              "        vertical-align: middle;\n",
              "    }\n",
              "\n",
              "    .dataframe tbody tr th {\n",
              "        vertical-align: top;\n",
              "    }\n",
              "\n",
              "    .dataframe thead th {\n",
              "        text-align: right;\n",
              "    }\n",
              "</style>\n",
              "<table border=\"1\" class=\"dataframe\">\n",
              "  <thead>\n",
              "    <tr style=\"text-align: right;\">\n",
              "      <th></th>\n",
              "      <th>Origin_city</th>\n",
              "      <th>Destination_city</th>\n",
              "      <th>Passengers</th>\n",
              "    </tr>\n",
              "  </thead>\n",
              "  <tbody>\n",
              "    <tr>\n",
              "      <th>7122</th>\n",
              "      <td>Dallas, TX</td>\n",
              "      <td>Houston, TX</td>\n",
              "      <td>38295025</td>\n",
              "    </tr>\n",
              "    <tr>\n",
              "      <th>12391</th>\n",
              "      <td>Houston, TX</td>\n",
              "      <td>Dallas, TX</td>\n",
              "      <td>37989016</td>\n",
              "    </tr>\n",
              "    <tr>\n",
              "      <th>13585</th>\n",
              "      <td>Kahului, HI</td>\n",
              "      <td>Honolulu, HI</td>\n",
              "      <td>32364664</td>\n",
              "    </tr>\n",
              "    <tr>\n",
              "      <th>12259</th>\n",
              "      <td>Honolulu, HI</td>\n",
              "      <td>Kahului, HI</td>\n",
              "      <td>29744742</td>\n",
              "    </tr>\n",
              "    <tr>\n",
              "      <th>16133</th>\n",
              "      <td>Los Angeles, CA</td>\n",
              "      <td>Honolulu, HI</td>\n",
              "      <td>28964232</td>\n",
              "    </tr>\n",
              "    <tr>\n",
              "      <th>...</th>\n",
              "      <td>...</td>\n",
              "      <td>...</td>\n",
              "      <td>...</td>\n",
              "    </tr>\n",
              "    <tr>\n",
              "      <th>14206</th>\n",
              "      <td>Klamath Falls, OR</td>\n",
              "      <td>Anchorage, AK</td>\n",
              "      <td>0</td>\n",
              "    </tr>\n",
              "    <tr>\n",
              "      <th>14218</th>\n",
              "      <td>Klamath Falls, OR</td>\n",
              "      <td>Roseburg, OR</td>\n",
              "      <td>0</td>\n",
              "    </tr>\n",
              "    <tr>\n",
              "      <th>25915</th>\n",
              "      <td>Seattle, WA</td>\n",
              "      <td>West Palm Beach, FL</td>\n",
              "      <td>0</td>\n",
              "    </tr>\n",
              "    <tr>\n",
              "      <th>14226</th>\n",
              "      <td>Knoxville, TN</td>\n",
              "      <td>Albany, GA</td>\n",
              "      <td>0</td>\n",
              "    </tr>\n",
              "    <tr>\n",
              "      <th>30330</th>\n",
              "      <td>Zanesville, OH</td>\n",
              "      <td>Shreveport, LA</td>\n",
              "      <td>0</td>\n",
              "    </tr>\n",
              "  </tbody>\n",
              "</table>\n",
              "<p>30331 rows × 3 columns</p>\n",
              "</div>"
            ],
            "text/plain": [
              "             Origin_city     Destination_city  Passengers\n",
              "7122          Dallas, TX          Houston, TX    38295025\n",
              "12391        Houston, TX           Dallas, TX    37989016\n",
              "13585        Kahului, HI         Honolulu, HI    32364664\n",
              "12259       Honolulu, HI          Kahului, HI    29744742\n",
              "16133    Los Angeles, CA         Honolulu, HI    28964232\n",
              "...                  ...                  ...         ...\n",
              "14206  Klamath Falls, OR        Anchorage, AK           0\n",
              "14218  Klamath Falls, OR         Roseburg, OR           0\n",
              "25915        Seattle, WA  West Palm Beach, FL           0\n",
              "14226      Knoxville, TN           Albany, GA           0\n",
              "30330     Zanesville, OH       Shreveport, LA           0\n",
              "\n",
              "[30331 rows x 3 columns]"
            ]
          },
          "metadata": {},
          "output_type": "display_data"
        }
      ],
      "source": [
        "\n",
        "def compute_passenger_flow_cities(data):\n",
        "\n",
        "    total_passenger_flow = data.groupby(['Origin_city', 'Destination_city'])['Passengers'].sum().reset_index()\n",
        "    total_passenger_flow = total_passenger_flow.sort_values(by='Passengers', ascending=False)\n",
        "    return total_passenger_flow\n",
        "\n",
        "passenger_flow_cities = compute_passenger_flow_cities(df)\n",
        "display(passenger_flow_cities)"
      ]
    },
    {
      "cell_type": "markdown",
      "metadata": {
        "id": "-jkAhjDnf6wc"
      },
      "source": [
        "### Identify and visualize the busiest routes by passenger traffic."
      ]
    },
    {
      "cell_type": "code",
      "execution_count": 11,
      "metadata": {},
      "outputs": [],
      "source": [
        "top_flights = (\n",
        "    df.groupby(['Origin_airport', 'Destination_airport', 'Org_airport_lat', 'Org_airport_long', 'Dest_airport_lat', 'Dest_airport_long'])\n",
        "    .agg({'Passengers': 'sum', 'Flights': 'sum', 'Seats': 'sum'})  # Sommare passeggeri, voli, posti a sedere\n",
        "    .reset_index()\n",
        "    .sort_values(by='Passengers', ascending=False)\n",
        ")"
      ]
    },
    {
      "cell_type": "code",
      "execution_count": 12,
      "metadata": {},
      "outputs": [],
      "source": [
        "def compute_passenger_flow_airports(df):\n",
        "\n",
        "    return top_flights"
      ]
    },
    {
      "cell_type": "code",
      "execution_count": 13,
      "metadata": {
        "id": "edh-tUSso9_8"
      },
      "outputs": [],
      "source": [
        "import matplotlib.pyplot as plt\n",
        "import seaborn as sns\n",
        "from matplotlib.ticker import MaxNLocator, FuncFormatter\n",
        "import numpy as np\n",
        "\n",
        "def plot_busiest_routes_airports(passenger_flow):\n",
        "    \n",
        "    passenger_flow['Route'] = passenger_flow['Origin_airport'] + \" - \" + passenger_flow['Destination_airport']\n",
        "\n",
        "    # Ordina per numero di passeggeri in ordine decrescente e seleziona le prime 45 rotte più trafficate\n",
        "    top_routes = passenger_flow.sort_values(by='Passengers', ascending=False).head(45)\n",
        "\n",
        "    # Crea il grafico a barre orizzontali\n",
        "    plt.figure(figsize=(12, 8))\n",
        "\n",
        "    # Mapping passengers to color scale\n",
        "    norm = plt.Normalize(top_routes['Passengers'].min(), top_routes['Passengers'].max())\n",
        "    sm = plt.cm.ScalarMappable(cmap='viridis', norm=norm)\n",
        "    sm.set_array([])\n",
        "\n",
        "    # Seaborn barplot with custom colors based on passenger count\n",
        "    sns.barplot(x='Passengers', y='Route', data=top_routes, palette=\"viridis\", errorbar=None)\n",
        "\n",
        "\n",
        "    # Personalizza il grafico\n",
        "    plt.title('Busiest Routes by Passenger Traffic (Airports)', fontsize=14)\n",
        "    plt.xlabel('Total Passengers', fontsize=12)\n",
        "    plt.ylabel('Routes (Origin - Destination)', fontsize=12)\n",
        "    plt.xticks(rotation=45)\n",
        "    plt.gca().xaxis.set_major_locator(MaxNLocator(integer=True))  \n",
        "    \n",
        "\n",
        "    # Rimuove la legenda\n",
        "    plt.legend([], frameon=False)\n",
        "\n",
        "    # Ottimizza la disposizione\n",
        "    plt.tight_layout()\n",
        "\n",
        "    # Mostra il grafico\n",
        "    plt.show()"
      ]
    },
    {
      "cell_type": "code",
      "execution_count": 14,
      "metadata": {
        "colab": {
          "base_uri": "https://localhost:8080/",
          "height": 1000
        },
        "id": "LGsD9d2xe8sL",
        "outputId": "eab43125-4dd2-4140-9bb0-6ce8e30d1fc9"
      },
      "outputs": [
        {
          "data": {
            "text/html": [
              "<div>\n",
              "<style scoped>\n",
              "    .dataframe tbody tr th:only-of-type {\n",
              "        vertical-align: middle;\n",
              "    }\n",
              "\n",
              "    .dataframe tbody tr th {\n",
              "        vertical-align: top;\n",
              "    }\n",
              "\n",
              "    .dataframe thead th {\n",
              "        text-align: right;\n",
              "    }\n",
              "</style>\n",
              "<table border=\"1\" class=\"dataframe\">\n",
              "  <thead>\n",
              "    <tr style=\"text-align: right;\">\n",
              "      <th></th>\n",
              "      <th>Origin_airport</th>\n",
              "      <th>Destination_airport</th>\n",
              "      <th>Passengers</th>\n",
              "    </tr>\n",
              "  </thead>\n",
              "  <tbody>\n",
              "    <tr>\n",
              "      <th>25706</th>\n",
              "      <td>OGG</td>\n",
              "      <td>HNL</td>\n",
              "      <td>32364612</td>\n",
              "    </tr>\n",
              "    <tr>\n",
              "      <th>15625</th>\n",
              "      <td>HNL</td>\n",
              "      <td>OGG</td>\n",
              "      <td>29744742</td>\n",
              "    </tr>\n",
              "    <tr>\n",
              "      <th>19159</th>\n",
              "      <td>LAX</td>\n",
              "      <td>HNL</td>\n",
              "      <td>28964154</td>\n",
              "    </tr>\n",
              "    <tr>\n",
              "      <th>15606</th>\n",
              "      <td>HNL</td>\n",
              "      <td>LAX</td>\n",
              "      <td>28632161</td>\n",
              "    </tr>\n",
              "    <tr>\n",
              "      <th>18874</th>\n",
              "      <td>LAS</td>\n",
              "      <td>LAX</td>\n",
              "      <td>26333721</td>\n",
              "    </tr>\n",
              "    <tr>\n",
              "      <th>...</th>\n",
              "      <td>...</td>\n",
              "      <td>...</td>\n",
              "      <td>...</td>\n",
              "    </tr>\n",
              "    <tr>\n",
              "      <th>19487</th>\n",
              "      <td>LBL</td>\n",
              "      <td>PIA</td>\n",
              "      <td>0</td>\n",
              "    </tr>\n",
              "    <tr>\n",
              "      <th>19489</th>\n",
              "      <td>LBL</td>\n",
              "      <td>RFD</td>\n",
              "      <td>0</td>\n",
              "    </tr>\n",
              "    <tr>\n",
              "      <th>19491</th>\n",
              "      <td>LBL</td>\n",
              "      <td>SDM</td>\n",
              "      <td>0</td>\n",
              "    </tr>\n",
              "    <tr>\n",
              "      <th>19496</th>\n",
              "      <td>LBL</td>\n",
              "      <td>YIP</td>\n",
              "      <td>0</td>\n",
              "    </tr>\n",
              "    <tr>\n",
              "      <th>36718</th>\n",
              "      <td>ZZV</td>\n",
              "      <td>YIP</td>\n",
              "      <td>0</td>\n",
              "    </tr>\n",
              "  </tbody>\n",
              "</table>\n",
              "<p>36719 rows × 3 columns</p>\n",
              "</div>"
            ],
            "text/plain": [
              "      Origin_airport Destination_airport  Passengers\n",
              "25706            OGG                 HNL    32364612\n",
              "15625            HNL                 OGG    29744742\n",
              "19159            LAX                 HNL    28964154\n",
              "15606            HNL                 LAX    28632161\n",
              "18874            LAS                 LAX    26333721\n",
              "...              ...                 ...         ...\n",
              "19487            LBL                 PIA           0\n",
              "19489            LBL                 RFD           0\n",
              "19491            LBL                 SDM           0\n",
              "19496            LBL                 YIP           0\n",
              "36718            ZZV                 YIP           0\n",
              "\n",
              "[36719 rows x 3 columns]"
            ]
          },
          "metadata": {},
          "output_type": "display_data"
        },
        {
          "data": {
            "image/png": "[encoded data removed]",
            "text/plain": [
              "<Figure size 1200x800 with 1 Axes>"
            ]
          },
          "metadata": {},
          "output_type": "display_data"
        }
      ],
      "source": [
        "\n",
        "passenger_flow_airports = compute_passenger_flow_airports(df)\n",
        "\n",
        "display(passenger_flow_airports[['Origin_airport', 'Destination_airport', 'Passengers']])\n",
        "\n",
        "plot_busiest_routes_airports(passenger_flow_airports)"
      ]
    },
    {
      "cell_type": "markdown",
      "metadata": {},
      "source": [
        "### Calculate the average passengers per flight for each route and highlight under/over-utilized connections."
      ]
    },
    {
      "cell_type": "code",
      "execution_count": 15,
      "metadata": {
        "colab": {
          "base_uri": "https://localhost:8080/",
          "height": 1000
        },
        "id": "jcFVLZyT_lrC",
        "outputId": "3423ffdf-0dc9-48ff-83a6-5f22853dadae"
      },
      "outputs": [],
      "source": [
        "\n",
        "def calculate_efficiency(df):\n",
        "    top_flights['Efficiency'] = top_flights['Passengers'] / top_flights['Seats']\n",
        "    top_flights['Passengers_per_Flight'] = top_flights['Passengers'] / top_flights['Flights']\n",
        "    top_flights_sorted = top_flights.sort_values(by=['Efficiency', 'Passengers'], ascending=[False, False])\n",
        "\n",
        "    top_flights_sorted['Route'] = top_flights_sorted['Origin_airport'] + \" - \" + top_flights_sorted['Destination_airport']\n",
        "    \n",
        "    \n",
        "    return top_flights_sorted"
      ]
    },
    {
      "cell_type": "code",
      "execution_count": 16,
      "metadata": {
        "id": "2Q9SgotUbnvb"
      },
      "outputs": [],
      "source": [
        "def display_top_routes(top_routes_sorted):\n",
        "    \n",
        "    display(top_routes_sorted[['Origin_airport', 'Destination_airport', 'Passengers', 'Efficiency', 'Route']])\n",
        "    "
      ]
    },
    {
      "cell_type": "code",
      "execution_count": 17,
      "metadata": {},
      "outputs": [],
      "source": [
        "\n",
        "def plot_efficiency_barplot(top_routes_sorted):\n",
        "    \"\"\"Visualizza il grafico a barre basato sull'efficienza delle rotte.\"\"\"\n",
        "    \n",
        "    top_routes_45 = top_routes_sorted.head(45)\n",
        "\n",
        "    plt.figure(figsize=(12, 8))\n",
        "    sns.barplot(x='Efficiency', y='Route', data=top_routes_45, palette=\"viridis\")\n",
        "\n",
        "    \n",
        "    plt.title('Top 45 Busiest Routes by Efficiency (Passenger to Seat Ratio)', fontsize=14)\n",
        "    plt.xlabel('Efficiency (Passengers / Seats)', fontsize=12)\n",
        "    plt.ylabel('Routes (Origin - Destination)', fontsize=12)\n",
        "    plt.xticks(rotation=45)\n",
        "    plt.tight_layout()\n",
        "    plt.show()"
      ]
    },
    {
      "cell_type": "code",
      "execution_count": 18,
      "metadata": {},
      "outputs": [
        {
          "data": {
            "text/html": [
              "<div>\n",
              "<style scoped>\n",
              "    .dataframe tbody tr th:only-of-type {\n",
              "        vertical-align: middle;\n",
              "    }\n",
              "\n",
              "    .dataframe tbody tr th {\n",
              "        vertical-align: top;\n",
              "    }\n",
              "\n",
              "    .dataframe thead th {\n",
              "        text-align: right;\n",
              "    }\n",
              "</style>\n",
              "<table border=\"1\" class=\"dataframe\">\n",
              "  <thead>\n",
              "    <tr style=\"text-align: right;\">\n",
              "      <th></th>\n",
              "      <th>Origin_airport</th>\n",
              "      <th>Destination_airport</th>\n",
              "      <th>Passengers</th>\n",
              "      <th>Efficiency</th>\n",
              "      <th>Route</th>\n",
              "    </tr>\n",
              "  </thead>\n",
              "  <tbody>\n",
              "    <tr>\n",
              "      <th>29361</th>\n",
              "      <td>RDU</td>\n",
              "      <td>PKB</td>\n",
              "      <td>60</td>\n",
              "      <td>1.016949</td>\n",
              "      <td>RDU - PKB</td>\n",
              "    </tr>\n",
              "    <tr>\n",
              "      <th>16337</th>\n",
              "      <td>IAD</td>\n",
              "      <td>MCW</td>\n",
              "      <td>486</td>\n",
              "      <td>1.000000</td>\n",
              "      <td>IAD - MCW</td>\n",
              "    </tr>\n",
              "    <tr>\n",
              "      <th>21891</th>\n",
              "      <td>MCW</td>\n",
              "      <td>IAD</td>\n",
              "      <td>486</td>\n",
              "      <td>1.000000</td>\n",
              "      <td>MCW - IAD</td>\n",
              "    </tr>\n",
              "    <tr>\n",
              "      <th>33734</th>\n",
              "      <td>STL</td>\n",
              "      <td>MWH</td>\n",
              "      <td>380</td>\n",
              "      <td>1.000000</td>\n",
              "      <td>STL - MWH</td>\n",
              "    </tr>\n",
              "    <tr>\n",
              "      <th>33018</th>\n",
              "      <td>SLN</td>\n",
              "      <td>DQF</td>\n",
              "      <td>349</td>\n",
              "      <td>1.000000</td>\n",
              "      <td>SLN - DQF</td>\n",
              "    </tr>\n",
              "    <tr>\n",
              "      <th>...</th>\n",
              "      <td>...</td>\n",
              "      <td>...</td>\n",
              "      <td>...</td>\n",
              "      <td>...</td>\n",
              "      <td>...</td>\n",
              "    </tr>\n",
              "    <tr>\n",
              "      <th>19487</th>\n",
              "      <td>LBL</td>\n",
              "      <td>PIA</td>\n",
              "      <td>0</td>\n",
              "      <td>NaN</td>\n",
              "      <td>LBL - PIA</td>\n",
              "    </tr>\n",
              "    <tr>\n",
              "      <th>19489</th>\n",
              "      <td>LBL</td>\n",
              "      <td>RFD</td>\n",
              "      <td>0</td>\n",
              "      <td>NaN</td>\n",
              "      <td>LBL - RFD</td>\n",
              "    </tr>\n",
              "    <tr>\n",
              "      <th>19491</th>\n",
              "      <td>LBL</td>\n",
              "      <td>SDM</td>\n",
              "      <td>0</td>\n",
              "      <td>NaN</td>\n",
              "      <td>LBL - SDM</td>\n",
              "    </tr>\n",
              "    <tr>\n",
              "      <th>19496</th>\n",
              "      <td>LBL</td>\n",
              "      <td>YIP</td>\n",
              "      <td>0</td>\n",
              "      <td>NaN</td>\n",
              "      <td>LBL - YIP</td>\n",
              "    </tr>\n",
              "    <tr>\n",
              "      <th>36718</th>\n",
              "      <td>ZZV</td>\n",
              "      <td>YIP</td>\n",
              "      <td>0</td>\n",
              "      <td>NaN</td>\n",
              "      <td>ZZV - YIP</td>\n",
              "    </tr>\n",
              "  </tbody>\n",
              "</table>\n",
              "<p>36719 rows × 5 columns</p>\n",
              "</div>"
            ],
            "text/plain": [
              "      Origin_airport Destination_airport  Passengers  Efficiency      Route\n",
              "29361            RDU                 PKB          60    1.016949  RDU - PKB\n",
              "16337            IAD                 MCW         486    1.000000  IAD - MCW\n",
              "21891            MCW                 IAD         486    1.000000  MCW - IAD\n",
              "33734            STL                 MWH         380    1.000000  STL - MWH\n",
              "33018            SLN                 DQF         349    1.000000  SLN - DQF\n",
              "...              ...                 ...         ...         ...        ...\n",
              "19487            LBL                 PIA           0         NaN  LBL - PIA\n",
              "19489            LBL                 RFD           0         NaN  LBL - RFD\n",
              "19491            LBL                 SDM           0         NaN  LBL - SDM\n",
              "19496            LBL                 YIP           0         NaN  LBL - YIP\n",
              "36718            ZZV                 YIP           0         NaN  ZZV - YIP\n",
              "\n",
              "[36719 rows x 5 columns]"
            ]
          },
          "metadata": {},
          "output_type": "display_data"
        },
        {
          "data": {
            "image/png": "[encoded data removed]",
            "text/plain": [
              "<Figure size 1200x800 with 1 Axes>"
            ]
          },
          "metadata": {},
          "output_type": "display_data"
        }
      ],
      "source": [
        "\n",
        "top_routes_sorted = calculate_efficiency(df)\n",
        "\n",
        "display_top_routes(top_routes_sorted)\n",
        "\n",
        "plot_efficiency_barplot(top_routes_sorted)"
      ]
    },
    {
      "cell_type": "code",
      "execution_count": 19,
      "metadata": {
        "id": "r_qqOjwLYDlH"
      },
      "outputs": [],
      "source": [
        "import pandas as pd\n",
        "import plotly.graph_objects as go\n",
        "import seaborn as sns\n",
        "\n",
        "def plot_top_flights(df, top_n=30):\n",
        "    \n",
        "    \n",
        "    top_flights = (\n",
        "        df.groupby(['Origin_airport', 'Destination_airport', 'Org_airport_lat', 'Org_airport_long',\n",
        "                    'Dest_airport_lat', 'Dest_airport_long'])\n",
        "        .agg({'Passengers': 'sum', 'Flights': 'sum', 'Seats': 'sum'})\n",
        "        .reset_index()\n",
        "        .sort_values(by='Passengers', ascending=False)\n",
        "    )\n",
        "\n",
        "    \n",
        "    top_flights['Passengers_per_Flight'] = top_flights['Passengers'] / top_flights['Flights']\n",
        "    top_flights['Seat_Efficiency'] = top_flights['Passengers'] / top_flights['Seats']\n",
        "\n",
        "    # Funzione per rimuovere duplicati bidirezionali\n",
        "    def remove_bidirectional_duplicates(data):\n",
        "        seen = set()\n",
        "        unique_routes = []\n",
        "        for _, row in data.iterrows():\n",
        "            route = tuple(sorted([row['Origin_airport'], row['Destination_airport']]))\n",
        "            if route not in seen:\n",
        "                seen.add(route)\n",
        "                unique_routes.append(row)\n",
        "        return pd.DataFrame(unique_routes)\n",
        "\n",
        "    \n",
        "    top_flights = remove_bidirectional_duplicates(top_flights.head(top_n))\n",
        "\n",
        "    \n",
        "    palette = sns.color_palette(\"husl\", 8)\n",
        "\n",
        "    \n",
        "    fig = go.Figure()\n",
        "\n",
        "    # Aggiungere i marker degli aeroporti di origine\n",
        "    fig.add_trace(\n",
        "        go.Scattergeo(\n",
        "            lon=top_flights['Org_airport_long'],\n",
        "            lat=top_flights['Org_airport_lat'],\n",
        "            text=top_flights.apply(\n",
        "                lambda row: f\"{row['Origin_airport']}<br>{row['Passengers_per_Flight']:.1f} Passengers per Flight<br>Seat Efficiency: {row['Seat_Efficiency']:.2f}\", axis=1\n",
        "            ),\n",
        "            mode='markers',\n",
        "            marker=dict(\n",
        "                size=top_flights['Passengers_per_Flight'],\n",
        "                color='blue',\n",
        "                sizeref=max(top_flights['Passengers_per_Flight']) / 30,\n",
        "                sizemode='diameter'\n",
        "            ),\n",
        "            name='Origin Airports'\n",
        "        )\n",
        "    )\n",
        "\n",
        "    # Aggiungere i marker degli aeroporti di destinazione\n",
        "    fig.add_trace(\n",
        "        go.Scattergeo(\n",
        "            lon=top_flights['Dest_airport_long'],\n",
        "            lat=top_flights['Dest_airport_lat'],\n",
        "            text=top_flights.apply(\n",
        "                lambda row: f\"{row['Destination_airport']}<br>{row['Passengers_per_Flight']:.1f} Passengers per Flight<br>Seat Efficiency: {row['Seat_Efficiency']:.2f}\", axis=1\n",
        "            ),\n",
        "            mode='markers',\n",
        "            marker=dict(\n",
        "                size=top_flights['Passengers_per_Flight'],\n",
        "                color='red',\n",
        "                sizeref=max(top_flights['Passengers_per_Flight']) / 30,\n",
        "                sizemode='diameter'\n",
        "            ),\n",
        "            name='Destination Airports'\n",
        "        )\n",
        "    )\n",
        "\n",
        "    # Aggiungere le linee dei voli\n",
        "    for idx, row in top_flights.iterrows():\n",
        "        color = f'rgb({int(palette[idx % 8][0] * 255)}, {int(palette[idx % 8][1] * 255)}, {int(palette[idx % 8][2] * 255)})'\n",
        "\n",
        "        fig.add_trace(\n",
        "            go.Scattergeo(\n",
        "                lon=[row['Org_airport_long'], row['Dest_airport_long']],\n",
        "                lat=[row['Org_airport_lat'], row['Dest_airport_lat']],\n",
        "                mode='lines',\n",
        "                line=dict(width=2, color=color),\n",
        "                opacity=0.7,\n",
        "                name=f\"{row['Origin_airport']} to {row['Destination_airport']}\"\n",
        "            )\n",
        "        )\n",
        "\n",
        "    # Configurare il layout della mappa\n",
        "    fig.update_layout(\n",
        "        title_text=f'Top {top_n} Flights (Passengers per Flight and Seat Efficiency)',\n",
        "        showlegend=True,\n",
        "        geo=dict(\n",
        "            scope='usa',\n",
        "            showland=True,\n",
        "            landcolor='rgb(217, 217, 217)',\n",
        "            projection_type='albers usa',\n",
        "            coastlinecolor=\"Black\",\n",
        "            showcoastlines=True\n",
        "        )\n",
        "    )\n",
        "\n",
        "    return fig\n",
        "\n",
        "def plot_bottom_flights(df, bottom_n=15):\n",
        "    \"\"\"\n",
        "    Plot an interactive map of the bottom N flights based on total passengers.\n",
        "\n",
        "    Parameters:\n",
        "        df (pd.DataFrame): The input DataFrame containing flight data with columns:\n",
        "                          ['Origin_airport', 'Destination_airport', 'Org_airport_lat', 'Org_airport_long',\n",
        "                           'Dest_airport_lat', 'Dest_airport_long', 'Passengers']\n",
        "        bottom_n (int): Number of bottom flights to display based on total passengers.\n",
        "\n",
        "    Returns:\n",
        "        fig (go.Figure): The plotly figure object.\n",
        "    \"\"\"\n",
        "    # Aggregare i dati\n",
        "    bottom_flights = (\n",
        "        df.groupby(['Origin_airport', 'Destination_airport', 'Org_airport_lat', 'Org_airport_long',\n",
        "                    'Dest_airport_lat', 'Dest_airport_long'])\n",
        "        .agg({'Passengers': 'sum'})\n",
        "        .reset_index()\n",
        "        .sort_values(by='Passengers', ascending=True)\n",
        "    )\n",
        "\n",
        "    # Funzione per rimuovere duplicati bidirezionali\n",
        "    def remove_bidirectional_duplicates(data):\n",
        "        seen = set()\n",
        "        unique_routes = []\n",
        "        for _, row in data.iterrows():\n",
        "            route = tuple(sorted([row['Origin_airport'], row['Destination_airport']]))\n",
        "            if route not in seen:\n",
        "                seen.add(route)\n",
        "                unique_routes.append(row)\n",
        "        return pd.DataFrame(unique_routes)\n",
        "\n",
        "    # Applicare il filtro per i bottom N voli\n",
        "    bottom_flights = remove_bidirectional_duplicates(bottom_flights.head(bottom_n))\n",
        "\n",
        "    # Palette per le linee\n",
        "    palette = sns.color_palette(\"hls\", 8)\n",
        "\n",
        "    # Creare la mappa interattiva\n",
        "    fig = go.Figure()\n",
        "\n",
        "    # Aggiungere i marker degli aeroporti di origine\n",
        "    fig.add_trace(\n",
        "        go.Scattergeo(\n",
        "            lon=bottom_flights['Org_airport_long'],\n",
        "            lat=bottom_flights['Org_airport_lat'],\n",
        "            text=bottom_flights.apply(\n",
        "                lambda row: f\"{row['Origin_airport']}<br>{row['Passengers'] / 1e6:.1f} million Passengers\", axis=1\n",
        "            ),\n",
        "            mode='markers',\n",
        "            marker=dict(size=10, color='blue'),\n",
        "            name='Origin Airports'\n",
        "        )\n",
        "    )\n",
        "\n",
        "    # Aggiungere i marker degli aeroporti di destinazione\n",
        "    fig.add_trace(\n",
        "        go.Scattergeo(\n",
        "            lon=bottom_flights['Dest_airport_long'],\n",
        "            lat=bottom_flights['Dest_airport_lat'],\n",
        "            text=bottom_flights.apply(\n",
        "                lambda row: f\"{row['Destination_airport']}<br>{row['Passengers'] / 1e6:.1f} million Passengers\", axis=1\n",
        "            ),\n",
        "            mode='markers',\n",
        "            marker=dict(size=10, color='red'),\n",
        "            name='Destination Airports'\n",
        "        )\n",
        "    )\n",
        "\n",
        "    # Aggiungere le linee dei voli\n",
        "    for idx, row in bottom_flights.iterrows():\n",
        "        color = f'rgb({int(palette[idx % 8][0] * 255)}, {int(palette[idx % 8][1] * 255)}, {int(palette[idx % 8][2] * 255)})'\n",
        "\n",
        "        fig.add_trace(\n",
        "            go.Scattergeo(\n",
        "                lon=[row['Org_airport_long'], row['Dest_airport_long']],\n",
        "                lat=[row['Org_airport_lat'], row['Dest_airport_lat']],\n",
        "                mode='lines',\n",
        "                line=dict(width=2, color=color),\n",
        "                opacity=0.7,\n",
        "                name=f\"{row['Origin_airport']} to {row['Destination_airport']}\"\n",
        "            )\n",
        "        )\n",
        "\n",
        "    # Configurare il layout della mappa\n",
        "    fig.update_layout(\n",
        "        title_text=f'Bottom {bottom_n} Flights (In Terms of Passengers)',\n",
        "        showlegend=True,\n",
        "        geo=dict(\n",
        "            scope='usa',\n",
        "            showland=True,\n",
        "            landcolor='rgb(217, 217, 217)',\n",
        "            projection_type='albers usa',\n",
        "            coastlinecolor=\"Black\",\n",
        "            showcoastlines=True\n",
        "        )\n",
        "    )\n",
        "\n",
        "    return fig\n",
        "\n",
        "\n"
      ]
    },
    {
      "cell_type": "code",
      "execution_count": 20,
      "metadata": {
        "colab": {
          "base_uri": "https://localhost:8080/",
          "height": 1000
        },
        "id": "12W2SII2YDfk",
        "outputId": "d5404539-0480-4ea2-a5f2-068f45067be8"
      },
      "outputs": [
        {
          "data": {
            "application/vnd.plotly.v1+json": {
              "config": {
                "plotlyServerURL": "https://plot.ly"
              },
              "data": [
                {
                  "lat": [
                    20.8985996246338,
                    33.94250107,
                    36.08010101,
                    33.94250107,
                    33.6366996765137,
                    41.97859955,
                    33.94250107,
                    33.4342994689941,
                    33.6366996765137,
                    33.4342994689941,
                    40.77719879,
                    41.97859955,
                    32.8470993041992,
                    27.9755001068115,
                    33.6366996765137,
                    40.77719879
                  ],
                  "lon": [
                    -156.429992675781,
                    -118.4079971,
                    -115.1520004,
                    -118.4079971,
                    -84.4281005859375,
                    -87.90480042,
                    -118.4079971,
                    -112.012001037598,
                    -84.4281005859375,
                    -112.012001037598,
                    -73.87259674,
                    -87.90480042,
                    -96.8517990112305,
                    -82.533203125,
                    -84.4281005859375,
                    -73.87259674
                  ],
                  "marker": {
                    "color": "blue",
                    "size": [
                      81.95460726395194,
                      205.45887510374328,
                      90.25847017572723,
                      79.04055860484313,
                      144.53317946824225,
                      123.70322778609189,
                      133.7234947565453,
                      93.84238206659718,
                      106.92020290413966,
                      83.09970535009977,
                      93.92901366950748,
                      146.57911065964265,
                      90.3439114353803,
                      136.6096381771954,
                      146.81069762284525,
                      118.0911541423699
                    ],
                    "sizemode": "diameter",
                    "sizeref": 6.848629170124776
                  },
                  "mode": "markers",
                  "name": "Origin Airports",
                  "text": [
                    "OGG<br>82.0 Passengers per Flight<br>Seat Efficiency: 0.65",
                    "LAX<br>205.5 Passengers per Flight<br>Seat Efficiency: 0.79",
                    "LAS<br>90.3 Passengers per Flight<br>Seat Efficiency: 0.66",
                    "LAX<br>79.0 Passengers per Flight<br>Seat Efficiency: 0.65",
                    "ATL<br>144.5 Passengers per Flight<br>Seat Efficiency: 0.78",
                    "ORD<br>123.7 Passengers per Flight<br>Seat Efficiency: 0.71",
                    "LAX<br>133.7 Passengers per Flight<br>Seat Efficiency: 0.71",
                    "PHX<br>93.8 Passengers per Flight<br>Seat Efficiency: 0.66",
                    "ATL<br>106.9 Passengers per Flight<br>Seat Efficiency: 0.72",
                    "PHX<br>83.1 Passengers per Flight<br>Seat Efficiency: 0.65",
                    "LGA<br>93.9 Passengers per Flight<br>Seat Efficiency: 0.67",
                    "ORD<br>146.6 Passengers per Flight<br>Seat Efficiency: 0.75",
                    "DAL<br>90.3 Passengers per Flight<br>Seat Efficiency: 0.69",
                    "TPA<br>136.6 Passengers per Flight<br>Seat Efficiency: 0.75",
                    "ATL<br>146.8 Passengers per Flight<br>Seat Efficiency: 0.77",
                    "LGA<br>118.1 Passengers per Flight<br>Seat Efficiency: 0.72"
                  ],
                  "type": "scattergeo"
                },
                {
                  "lat": [
                    21.3187007904053,
                    21.3187007904053,
                    33.94250107,
                    37.6189994812012,
                    28.4293994903564,
                    33.94250107,
                    40.63980103,
                    36.08010101,
                    32.896800994873,
                    33.94250107,
                    41.97859955,
                    37.6189994812012,
                    29.64539909,
                    33.6366996765137,
                    26.0725994110107,
                    33.6366996765137
                  ],
                  "lon": [
                    -157.921997070312,
                    -157.921997070312,
                    -118.4079971,
                    -122.375,
                    -81.3089981079102,
                    -118.4079971,
                    -73.77890015,
                    -115.1520004,
                    -97.0380020141602,
                    -118.4079971,
                    -87.90480042,
                    -122.375,
                    -95.27890015,
                    -84.4281005859375,
                    -80.152702331543,
                    -84.4281005859375
                  ],
                  "marker": {
                    "color": "red",
                    "size": [
                      81.95460726395194,
                      205.45887510374328,
                      90.25847017572723,
                      79.04055860484313,
                      144.53317946824225,
                      123.70322778609189,
                      133.7234947565453,
                      93.84238206659718,
                      106.92020290413966,
                      83.09970535009977,
                      93.92901366950748,
                      146.57911065964265,
                      90.3439114353803,
                      136.6096381771954,
                      146.81069762284525,
                      118.0911541423699
                    ],
                    "sizemode": "diameter",
                    "sizeref": 6.848629170124776
                  },
                  "mode": "markers",
                  "name": "Destination Airports",
                  "text": [
                    "HNL<br>82.0 Passengers per Flight<br>Seat Efficiency: 0.65",
                    "HNL<br>205.5 Passengers per Flight<br>Seat Efficiency: 0.79",
                    "LAX<br>90.3 Passengers per Flight<br>Seat Efficiency: 0.66",
                    "SFO<br>79.0 Passengers per Flight<br>Seat Efficiency: 0.65",
                    "MCO<br>144.5 Passengers per Flight<br>Seat Efficiency: 0.78",
                    "LAX<br>123.7 Passengers per Flight<br>Seat Efficiency: 0.71",
                    "JFK<br>133.7 Passengers per Flight<br>Seat Efficiency: 0.71",
                    "LAS<br>93.8 Passengers per Flight<br>Seat Efficiency: 0.66",
                    "DFW<br>106.9 Passengers per Flight<br>Seat Efficiency: 0.72",
                    "LAX<br>83.1 Passengers per Flight<br>Seat Efficiency: 0.65",
                    "ORD<br>93.9 Passengers per Flight<br>Seat Efficiency: 0.67",
                    "SFO<br>146.6 Passengers per Flight<br>Seat Efficiency: 0.75",
                    "HOU<br>90.3 Passengers per Flight<br>Seat Efficiency: 0.69",
                    "ATL<br>136.6 Passengers per Flight<br>Seat Efficiency: 0.75",
                    "FLL<br>146.8 Passengers per Flight<br>Seat Efficiency: 0.77",
                    "ATL<br>118.1 Passengers per Flight<br>Seat Efficiency: 0.72"
                  ],
                  "type": "scattergeo"
                },
                {
                  "lat": [
                    20.8985996246338,
                    21.3187007904053
                  ],
                  "line": {
                    "color": "rgb(150, 163, 49)",
                    "width": 2
                  },
                  "lon": [
                    -156.429992675781,
                    -157.921997070312
                  ],
                  "mode": "lines",
                  "name": "OGG to HNL",
                  "opacity": 0.7,
                  "type": "scattergeo"
                },
                {
                  "lat": [
                    33.94250107,
                    21.3187007904053
                  ],
                  "line": {
                    "color": "rgb(244, 97, 221)",
                    "width": 2
                  },
                  "lon": [
                    -118.4079971,
                    -157.921997070312
                  ],
                  "mode": "lines",
                  "name": "LAX to HNL",
                  "opacity": 0.7,
                  "type": "scattergeo"
                },
                {
                  "lat": [
                    36.08010101,
                    33.94250107
                  ],
                  "line": {
                    "color": "rgb(150, 163, 49)",
                    "width": 2
                  },
                  "lon": [
                    -115.1520004,
                    -118.4079971
                  ],
                  "mode": "lines",
                  "name": "LAS to LAX",
                  "opacity": 0.7,
                  "type": "scattergeo"
                },
                {
                  "lat": [
                    33.94250107,
                    37.6189994812012
                  ],
                  "line": {
                    "color": "rgb(53, 172, 164)",
                    "width": 2
                  },
                  "lon": [
                    -118.4079971,
                    -122.375
                  ],
                  "mode": "lines",
                  "name": "LAX to SFO",
                  "opacity": 0.7,
                  "type": "scattergeo"
                },
                {
                  "lat": [
                    33.6366996765137,
                    28.4293994903564
                  ],
                  "line": {
                    "color": "rgb(163, 140, 244)",
                    "width": 2
                  },
                  "lon": [
                    -84.4281005859375,
                    -81.3089981079102
                  ],
                  "mode": "lines",
                  "name": "ATL to MCO",
                  "opacity": 0.7,
                  "type": "scattergeo"
                },
                {
                  "lat": [
                    41.97859955,
                    33.94250107
                  ],
                  "line": {
                    "color": "rgb(244, 97, 221)",
                    "width": 2
                  },
                  "lon": [
                    -87.90480042,
                    -118.4079971
                  ],
                  "mode": "lines",
                  "name": "ORD to LAX",
                  "opacity": 0.7,
                  "type": "scattergeo"
                },
                {
                  "lat": [
                    33.94250107,
                    40.63980103
                  ],
                  "line": {
                    "color": "rgb(246, 112, 136)",
                    "width": 2
                  },
                  "lon": [
                    -118.4079971,
                    -73.77890015
                  ],
                  "mode": "lines",
                  "name": "LAX to JFK",
                  "opacity": 0.7,
                  "type": "scattergeo"
                },
                {
                  "lat": [
                    33.4342994689941,
                    36.08010101
                  ],
                  "line": {
                    "color": "rgb(244, 97, 221)",
                    "width": 2
                  },
                  "lon": [
                    -112.012001037598,
                    -115.1520004
                  ],
                  "mode": "lines",
                  "name": "PHX to LAS",
                  "opacity": 0.7,
                  "type": "scattergeo"
                },
                {
                  "lat": [
                    33.6366996765137,
                    32.896800994873
                  ],
                  "line": {
                    "color": "rgb(53, 172, 164)",
                    "width": 2
                  },
                  "lon": [
                    -84.4281005859375,
                    -97.0380020141602
                  ],
                  "mode": "lines",
                  "name": "ATL to DFW",
                  "opacity": 0.7,
                  "type": "scattergeo"
                },
                {
                  "lat": [
                    33.4342994689941,
                    33.94250107
                  ],
                  "line": {
                    "color": "rgb(206, 143, 49)",
                    "width": 2
                  },
                  "lon": [
                    -112.012001037598,
                    -118.4079971
                  ],
                  "mode": "lines",
                  "name": "PHX to LAX",
                  "opacity": 0.7,
                  "type": "scattergeo"
                },
                {
                  "lat": [
                    40.77719879,
                    41.97859955
                  ],
                  "line": {
                    "color": "rgb(244, 97, 221)",
                    "width": 2
                  },
                  "lon": [
                    -73.87259674,
                    -87.90480042
                  ],
                  "mode": "lines",
                  "name": "LGA to ORD",
                  "opacity": 0.7,
                  "type": "scattergeo"
                },
                {
                  "lat": [
                    41.97859955,
                    37.6189994812012
                  ],
                  "line": {
                    "color": "rgb(206, 143, 49)",
                    "width": 2
                  },
                  "lon": [
                    -87.90480042,
                    -122.375
                  ],
                  "mode": "lines",
                  "name": "ORD to SFO",
                  "opacity": 0.7,
                  "type": "scattergeo"
                },
                {
                  "lat": [
                    32.8470993041992,
                    29.64539909
                  ],
                  "line": {
                    "color": "rgb(50, 177, 101)",
                    "width": 2
                  },
                  "lon": [
                    -96.8517990112305,
                    -95.27890015
                  ],
                  "mode": "lines",
                  "name": "DAL to HOU",
                  "opacity": 0.7,
                  "type": "scattergeo"
                },
                {
                  "lat": [
                    27.9755001068115,
                    33.6366996765137
                  ],
                  "line": {
                    "color": "rgb(50, 177, 101)",
                    "width": 2
                  },
                  "lon": [
                    -82.533203125,
                    -84.4281005859375
                  ],
                  "mode": "lines",
                  "name": "TPA to ATL",
                  "opacity": 0.7,
                  "type": "scattergeo"
                },
                {
                  "lat": [
                    33.6366996765137,
                    26.0725994110107
                  ],
                  "line": {
                    "color": "rgb(150, 163, 49)",
                    "width": 2
                  },
                  "lon": [
                    -84.4281005859375,
                    -80.152702331543
                  ],
                  "mode": "lines",
                  "name": "ATL to FLL",
                  "opacity": 0.7,
                  "type": "scattergeo"
                },
                {
                  "lat": [
                    40.77719879,
                    33.6366996765137
                  ],
                  "line": {
                    "color": "rgb(56, 167, 208)",
                    "width": 2
                  },
                  "lon": [
                    -73.87259674,
                    -84.4281005859375
                  ],
                  "mode": "lines",
                  "name": "LGA to ATL",
                  "opacity": 0.7,
                  "type": "scattergeo"
                }
              ],
              "layout": {
                "geo": {
                  "coastlinecolor": "Black",
                  "landcolor": "rgb(217, 217, 217)",
                  "projection": {
                    "type": "albers usa"
                  },
                  "scope": "usa",
                  "showcoastlines": true,
                  "showland": true
                },
                "showlegend": true,
                "template": {
                  "data": {
                    "bar": [
                      {
                        "error_x": {
                          "color": "#2a3f5f"
                        },
                        "error_y": {
                          "color": "#2a3f5f"
                        },
                        "marker": {
                          "line": {
                            "color": "#E5ECF6",
                            "width": 0.5
                          },
                          "pattern": {
                            "fillmode": "overlay",
                            "size": 10,
                            "solidity": 0.2
                          }
                        },
                        "type": "bar"
                      }
                    ],
                    "barpolar": [
                      {
                        "marker": {
                          "line": {
                            "color": "#E5ECF6",
                            "width": 0.5
                          },
                          "pattern": {
                            "fillmode": "overlay",
                            "size": 10,
                            "solidity": 0.2
                          }
                        },
                        "type": "barpolar"
                      }
                    ],
                    "carpet": [
                      {
                        "aaxis": {
                          "endlinecolor": "#2a3f5f",
                          "gridcolor": "white",
                          "linecolor": "white",
                          "minorgridcolor": "white",
                          "startlinecolor": "#2a3f5f"
                        },
                        "baxis": {
                          "endlinecolor": "#2a3f5f",
                          "gridcolor": "white",
                          "linecolor": "white",
                          "minorgridcolor": "white",
                          "startlinecolor": "#2a3f5f"
                        },
                        "type": "carpet"
                      }
                    ],
                    "choropleth": [
                      {
                        "colorbar": {
                          "outlinewidth": 0,
                          "ticks": ""
                        },
                        "type": "choropleth"
                      }
                    ],
                    "contour": [
                      {
                        "colorbar": {
                          "outlinewidth": 0,
                          "ticks": ""
                        },
                        "colorscale": [
                          [
                            0,
                            "#0d0887"
                          ],
                          [
                            0.1111111111111111,
                            "#46039f"
                          ],
                          [
                            0.2222222222222222,
                            "#7201a8"
                          ],
                          [
                            0.3333333333333333,
                            "#9c179e"
                          ],
                          [
                            0.4444444444444444,
                            "#bd3786"
                          ],
                          [
                            0.5555555555555556,
                            "#d8576b"
                          ],
                          [
                            0.6666666666666666,
                            "#ed7953"
                          ],
                          [
                            0.7777777777777778,
                            "#fb9f3a"
                          ],
                          [
                            0.8888888888888888,
                            "#fdca26"
                          ],
                          [
                            1,
                            "#f0f921"
                          ]
                        ],
                        "type": "contour"
                      }
                    ],
                    "contourcarpet": [
                      {
                        "colorbar": {
                          "outlinewidth": 0,
                          "ticks": ""
                        },
                        "type": "contourcarpet"
                      }
                    ],
                    "heatmap": [
                      {
                        "colorbar": {
                          "outlinewidth": 0,
                          "ticks": ""
                        },
                        "colorscale": [
                          [
                            0,
                            "#0d0887"
                          ],
                          [
                            0.1111111111111111,
                            "#46039f"
                          ],
                          [
                            0.2222222222222222,
                            "#7201a8"
                          ],
                          [
                            0.3333333333333333,
                            "#9c179e"
                          ],
                          [
                            0.4444444444444444,
                            "#bd3786"
                          ],
                          [
                            0.5555555555555556,
                            "#d8576b"
                          ],
                          [
                            0.6666666666666666,
                            "#ed7953"
                          ],
                          [
                            0.7777777777777778,
                            "#fb9f3a"
                          ],
                          [
                            0.8888888888888888,
                            "#fdca26"
                          ],
                          [
                            1,
                            "#f0f921"
                          ]
                        ],
                        "type": "heatmap"
                      }
                    ],
                    "heatmapgl": [
                      {
                        "colorbar": {
                          "outlinewidth": 0,
                          "ticks": ""
                        },
                        "colorscale": [
                          [
                            0,
                            "#0d0887"
                          ],
                          [
                            0.1111111111111111,
                            "#46039f"
                          ],
                          [
                            0.2222222222222222,
                            "#7201a8"
                          ],
                          [
                            0.3333333333333333,
                            "#9c179e"
                          ],
                          [
                            0.4444444444444444,
                            "#bd3786"
                          ],
                          [
                            0.5555555555555556,
                            "#d8576b"
                          ],
                          [
                            0.6666666666666666,
                            "#ed7953"
                          ],
                          [
                            0.7777777777777778,
                            "#fb9f3a"
                          ],
                          [
                            0.8888888888888888,
                            "#fdca26"
                          ],
                          [
                            1,
                            "#f0f921"
                          ]
                        ],
                        "type": "heatmapgl"
                      }
                    ],
                    "histogram": [
                      {
                        "marker": {
                          "pattern": {
                            "fillmode": "overlay",
                            "size": 10,
                            "solidity": 0.2
                          }
                        },
                        "type": "histogram"
                      }
                    ],
                    "histogram2d": [
                      {
                        "colorbar": {
                          "outlinewidth": 0,
                          "ticks": ""
                        },
                        "colorscale": [
                          [
                            0,
                            "#0d0887"
                          ],
                          [
                            0.1111111111111111,
                            "#46039f"
                          ],
                          [
                            0.2222222222222222,
                            "#7201a8"
                          ],
                          [
                            0.3333333333333333,
                            "#9c179e"
                          ],
                          [
                            0.4444444444444444,
                            "#bd3786"
                          ],
                          [
                            0.5555555555555556,
                            "#d8576b"
                          ],
                          [
                            0.6666666666666666,
                            "#ed7953"
                          ],
                          [
                            0.7777777777777778,
                            "#fb9f3a"
                          ],
                          [
                            0.8888888888888888,
                            "#fdca26"
                          ],
                          [
                            1,
                            "#f0f921"
                          ]
                        ],
                        "type": "histogram2d"
                      }
                    ],
                    "histogram2dcontour": [
                      {
                        "colorbar": {
                          "outlinewidth": 0,
                          "ticks": ""
                        },
                        "colorscale": [
                          [
                            0,
                            "#0d0887"
                          ],
                          [
                            0.1111111111111111,
                            "#46039f"
                          ],
                          [
                            0.2222222222222222,
                            "#7201a8"
                          ],
                          [
                            0.3333333333333333,
                            "#9c179e"
                          ],
                          [
                            0.4444444444444444,
                            "#bd3786"
                          ],
                          [
                            0.5555555555555556,
                            "#d8576b"
                          ],
                          [
                            0.6666666666666666,
                            "#ed7953"
                          ],
                          [
                            0.7777777777777778,
                            "#fb9f3a"
                          ],
                          [
                            0.8888888888888888,
                            "#fdca26"
                          ],
                          [
                            1,
                            "#f0f921"
                          ]
                        ],
                        "type": "histogram2dcontour"
                      }
                    ],
                    "mesh3d": [
                      {
                        "colorbar": {
                          "outlinewidth": 0,
                          "ticks": ""
                        },
                        "type": "mesh3d"
                      }
                    ],
                    "parcoords": [
                      {
                        "line": {
                          "colorbar": {
                            "outlinewidth": 0,
                            "ticks": ""
                          }
                        },
                        "type": "parcoords"
                      }
                    ],
                    "pie": [
                      {
                        "automargin": true,
                        "type": "pie"
                      }
                    ],
                    "scatter": [
                      {
                        "fillpattern": {
                          "fillmode": "overlay",
                          "size": 10,
                          "solidity": 0.2
                        },
                        "type": "scatter"
                      }
                    ],
                    "scatter3d": [
                      {
                        "line": {
                          "colorbar": {
                            "outlinewidth": 0,
                            "ticks": ""
                          }
                        },
                        "marker": {
                          "colorbar": {
                            "outlinewidth": 0,
                            "ticks": ""
                          }
                        },
                        "type": "scatter3d"
                      }
                    ],
                    "scattercarpet": [
                      {
                        "marker": {
                          "colorbar": {
                            "outlinewidth": 0,
                            "ticks": ""
                          }
                        },
                        "type": "scattercarpet"
                      }
                    ],
                    "scattergeo": [
                      {
                        "marker": {
                          "colorbar": {
                            "outlinewidth": 0,
                            "ticks": ""
                          }
                        },
                        "type": "scattergeo"
                      }
                    ],
                    "scattergl": [
                      {
                        "marker": {
                          "colorbar": {
                            "outlinewidth": 0,
                            "ticks": ""
                          }
                        },
                        "type": "scattergl"
                      }
                    ],
                    "scattermapbox": [
                      {
                        "marker": {
                          "colorbar": {
                            "outlinewidth": 0,
                            "ticks": ""
                          }
                        },
                        "type": "scattermapbox"
                      }
                    ],
                    "scatterpolar": [
                      {
                        "marker": {
                          "colorbar": {
                            "outlinewidth": 0,
                            "ticks": ""
                          }
                        },
                        "type": "scatterpolar"
                      }
                    ],
                    "scatterpolargl": [
                      {
                        "marker": {
                          "colorbar": {
                            "outlinewidth": 0,
                            "ticks": ""
                          }
                        },
                        "type": "scatterpolargl"
                      }
                    ],
                    "scatterternary": [
                      {
                        "marker": {
                          "colorbar": {
                            "outlinewidth": 0,
                            "ticks": ""
                          }
                        },
                        "type": "scatterternary"
                      }
                    ],
                    "surface": [
                      {
                        "colorbar": {
                          "outlinewidth": 0,
                          "ticks": ""
                        },
                        "colorscale": [
                          [
                            0,
                            "#0d0887"
                          ],
                          [
                            0.1111111111111111,
                            "#46039f"
                          ],
                          [
                            0.2222222222222222,
                            "#7201a8"
                          ],
                          [
                            0.3333333333333333,
                            "#9c179e"
                          ],
                          [
                            0.4444444444444444,
                            "#bd3786"
                          ],
                          [
                            0.5555555555555556,
                            "#d8576b"
                          ],
                          [
                            0.6666666666666666,
                            "#ed7953"
                          ],
                          [
                            0.7777777777777778,
                            "#fb9f3a"
                          ],
                          [
                            0.8888888888888888,
                            "#fdca26"
                          ],
                          [
                            1,
                            "#f0f921"
                          ]
                        ],
                        "type": "surface"
                      }
                    ],
                    "table": [
                      {
                        "cells": {
                          "fill": {
                            "color": "#EBF0F8"
                          },
                          "line": {
                            "color": "white"
                          }
                        },
                        "header": {
                          "fill": {
                            "color": "#C8D4E3"
                          },
                          "line": {
                            "color": "white"
                          }
                        },
                        "type": "table"
                      }
                    ]
                  },
                  "layout": {
                    "annotationdefaults": {
                      "arrowcolor": "#2a3f5f",
                      "arrowhead": 0,
                      "arrowwidth": 1
                    },
                    "autotypenumbers": "strict",
                    "coloraxis": {
                      "colorbar": {
                        "outlinewidth": 0,
                        "ticks": ""
                      }
                    },
                    "colorscale": {
                      "diverging": [
                        [
                          0,
                          "#8e0152"
                        ],
                        [
                          0.1,
                          "#c51b7d"
                        ],
                        [
                          0.2,
                          "#de77ae"
                        ],
                        [
                          0.3,
                          "#f1b6da"
                        ],
                        [
                          0.4,
                          "#fde0ef"
                        ],
                        [
                          0.5,
                          "#f7f7f7"
                        ],
                        [
                          0.6,
                          "#e6f5d0"
                        ],
                        [
                          0.7,
                          "#b8e186"
                        ],
                        [
                          0.8,
                          "#7fbc41"
                        ],
                        [
                          0.9,
                          "#4d9221"
                        ],
                        [
                          1,
                          "#276419"
                        ]
                      ],
                      "sequential": [
                        [
                          0,
                          "#0d0887"
                        ],
                        [
                          0.1111111111111111,
                          "#46039f"
                        ],
                        [
                          0.2222222222222222,
                          "#7201a8"
                        ],
                        [
                          0.3333333333333333,
                          "#9c179e"
                        ],
                        [
                          0.4444444444444444,
                          "#bd3786"
                        ],
                        [
                          0.5555555555555556,
                          "#d8576b"
                        ],
                        [
                          0.6666666666666666,
                          "#ed7953"
                        ],
                        [
                          0.7777777777777778,
                          "#fb9f3a"
                        ],
                        [
                          0.8888888888888888,
                          "#fdca26"
                        ],
                        [
                          1,
                          "#f0f921"
                        ]
                      ],
                      "sequentialminus": [
                        [
                          0,
                          "#0d0887"
                        ],
                        [
                          0.1111111111111111,
                          "#46039f"
                        ],
                        [
                          0.2222222222222222,
                          "#7201a8"
                        ],
                        [
                          0.3333333333333333,
                          "#9c179e"
                        ],
                        [
                          0.4444444444444444,
                          "#bd3786"
                        ],
                        [
                          0.5555555555555556,
                          "#d8576b"
                        ],
                        [
                          0.6666666666666666,
                          "#ed7953"
                        ],
                        [
                          0.7777777777777778,
                          "#fb9f3a"
                        ],
                        [
                          0.8888888888888888,
                          "#fdca26"
                        ],
                        [
                          1,
                          "#f0f921"
                        ]
                      ]
                    },
                    "colorway": [
                      "#636efa",
                      "#EF553B",
                      "#00cc96",
                      "#ab63fa",
                      "#FFA15A",
                      "#19d3f3",
                      "#FF6692",
                      "#B6E880",
                      "#FF97FF",
                      "#FECB52"
                    ],
                    "font": {
                      "color": "#2a3f5f"
                    },
                    "geo": {
                      "bgcolor": "white",
                      "lakecolor": "white",
                      "landcolor": "#E5ECF6",
                      "showlakes": true,
                      "showland": true,
                      "subunitcolor": "white"
                    },
                    "hoverlabel": {
                      "align": "left"
                    },
                    "hovermode": "closest",
                    "mapbox": {
                      "style": "light"
                    },
                    "paper_bgcolor": "white",
                    "plot_bgcolor": "#E5ECF6",
                    "polar": {
                      "angularaxis": {
                        "gridcolor": "white",
                        "linecolor": "white",
                        "ticks": ""
                      },
                      "bgcolor": "#E5ECF6",
                      "radialaxis": {
                        "gridcolor": "white",
                        "linecolor": "white",
                        "ticks": ""
                      }
                    },
                    "scene": {
                      "xaxis": {
                        "backgroundcolor": "#E5ECF6",
                        "gridcolor": "white",
                        "gridwidth": 2,
                        "linecolor": "white",
                        "showbackground": true,
                        "ticks": "",
                        "zerolinecolor": "white"
                      },
                      "yaxis": {
                        "backgroundcolor": "#E5ECF6",
                        "gridcolor": "white",
                        "gridwidth": 2,
                        "linecolor": "white",
                        "showbackground": true,
                        "ticks": "",
                        "zerolinecolor": "white"
                      },
                      "zaxis": {
                        "backgroundcolor": "#E5ECF6",
                        "gridcolor": "white",
                        "gridwidth": 2,
                        "linecolor": "white",
                        "showbackground": true,
                        "ticks": "",
                        "zerolinecolor": "white"
                      }
                    },
                    "shapedefaults": {
                      "line": {
                        "color": "#2a3f5f"
                      }
                    },
                    "ternary": {
                      "aaxis": {
                        "gridcolor": "white",
                        "linecolor": "white",
                        "ticks": ""
                      },
                      "baxis": {
                        "gridcolor": "white",
                        "linecolor": "white",
                        "ticks": ""
                      },
                      "bgcolor": "#E5ECF6",
                      "caxis": {
                        "gridcolor": "white",
                        "linecolor": "white",
                        "ticks": ""
                      }
                    },
                    "title": {
                      "x": 0.05
                    },
                    "xaxis": {
                      "automargin": true,
                      "gridcolor": "white",
                      "linecolor": "white",
                      "ticks": "",
                      "title": {
                        "standoff": 15
                      },
                      "zerolinecolor": "white",
                      "zerolinewidth": 2
                    },
                    "yaxis": {
                      "automargin": true,
                      "gridcolor": "white",
                      "linecolor": "white",
                      "ticks": "",
                      "title": {
                        "standoff": 15
                      },
                      "zerolinecolor": "white",
                      "zerolinewidth": 2
                    }
                  }
                },
                "title": {
                  "text": "Top 30 Flights (Passengers per Flight and Seat Efficiency)"
                }
              }
            }
          },
          "metadata": {},
          "output_type": "display_data"
        },
        {
          "data": {
            "application/vnd.plotly.v1+json": {
              "config": {
                "plotlyServerURL": "https://plot.ly"
              },
              "data": [
                {
                  "lat": [
                    37.151798248291,
                    39.427898407,
                    39.427898407,
                    39.427898407,
                    39.427898407,
                    39.427898407,
                    39.427898407,
                    39.427898407,
                    39.427898407,
                    39.427898407,
                    39.427898407,
                    39.427898407,
                    39.427898407,
                    39.427898407,
                    39.427898407,
                    39.427898407,
                    39.427898407,
                    39.427898407,
                    39.427898407,
                    39.427898407,
                    39.427898407,
                    39.427898407,
                    39.427898407,
                    39.427898407,
                    39.427898407,
                    39.427898407,
                    39.427898407,
                    39.427898407,
                    39.427898407,
                    39.67869949
                  ],
                  "lon": [
                    -94.4982986450195,
                    -83.792098999,
                    -83.792098999,
                    -83.792098999,
                    -83.792098999,
                    -83.792098999,
                    -83.792098999,
                    -83.792098999,
                    -83.792098999,
                    -83.792098999,
                    -83.792098999,
                    -83.792098999,
                    -83.792098999,
                    -83.792098999,
                    -83.792098999,
                    -83.792098999,
                    -83.792098999,
                    -83.792098999,
                    -83.792098999,
                    -83.792098999,
                    -83.792098999,
                    -83.792098999,
                    -83.792098999,
                    -83.792098999,
                    -83.792098999,
                    -83.792098999,
                    -83.792098999,
                    -83.792098999,
                    -83.792098999,
                    -75.60649872
                  ],
                  "marker": {
                    "color": "blue",
                    "size": 10
                  },
                  "mode": "markers",
                  "name": "Origin Airports",
                  "text": [
                    "JLN<br>0.0 million Passengers",
                    "ILN<br>0.0 million Passengers",
                    "ILN<br>0.0 million Passengers",
                    "ILN<br>0.0 million Passengers",
                    "ILN<br>0.0 million Passengers",
                    "ILN<br>0.0 million Passengers",
                    "ILN<br>0.0 million Passengers",
                    "ILN<br>0.0 million Passengers",
                    "ILN<br>0.0 million Passengers",
                    "ILN<br>0.0 million Passengers",
                    "ILN<br>0.0 million Passengers",
                    "ILN<br>0.0 million Passengers",
                    "ILN<br>0.0 million Passengers",
                    "ILN<br>0.0 million Passengers",
                    "ILN<br>0.0 million Passengers",
                    "ILN<br>0.0 million Passengers",
                    "ILN<br>0.0 million Passengers",
                    "ILN<br>0.0 million Passengers",
                    "ILN<br>0.0 million Passengers",
                    "ILN<br>0.0 million Passengers",
                    "ILN<br>0.0 million Passengers",
                    "ILN<br>0.0 million Passengers",
                    "ILN<br>0.0 million Passengers",
                    "ILN<br>0.0 million Passengers",
                    "ILN<br>0.0 million Passengers",
                    "ILN<br>0.0 million Passengers",
                    "ILN<br>0.0 million Passengers",
                    "ILN<br>0.0 million Passengers",
                    "ILN<br>0.0 million Passengers",
                    "ILG<br>0.0 million Passengers"
                  ],
                  "type": "scattergeo"
                },
                {
                  "lat": [
                    41.90779877,
                    32.9686012268,
                    42.7482986450195,
                    35.2193984985352,
                    61.1744003295898,
                    33.6366996765137,
                    44.2580986023,
                    30.1944999694824,
                    41.9388999939,
                    47.5299987792969,
                    33.56290054,
                    45.8077011108398,
                    34.30301,
                    40.47710037,
                    42.36429977,
                    30.53319931,
                    44.4719009399,
                    42.94049835,
                    39.17539978,
                    45.77750015,
                    33.9388008117676,
                    35.0353012084961,
                    32.89860153,
                    41.8847007751465,
                    41.4117012024,
                    36.1245002746582,
                    35.0401992797852,
                    32.4113006592,
                    40.652099609375,
                    35.8563003540039
                  ],
                  "lon": [
                    -88.24859619,
                    -96.8364028931,
                    -73.8016967773438,
                    -101.706001281738,
                    -149.996002197266,
                    -84.4281005859375,
                    -88.5190963745,
                    -97.6698989868164,
                    -72.6831970215,
                    -122.302001953125,
                    -86.75350189,
                    -108.542999267578,
                    -97.0196342,
                    -88.91590118,
                    -71.00520325,
                    -91.14959717,
                    -73.1532974243,
                    -78.73220062,
                    -76.66829681,
                    -111.1529999,
                    -81.119499206543,
                    -85.2037963867188,
                    -80.04049683,
                    -91.7108001708984,
                    -81.8498001099,
                    -86.6781997680664,
                    -106.609001159668,
                    -99.6819000244,
                    -75.440803527832,
                    -77.8918991088867
                  ],
                  "marker": {
                    "color": "red",
                    "size": 10
                  },
                  "mode": "markers",
                  "name": "Destination Airports",
                  "text": [
                    "DPA<br>0.0 million Passengers",
                    "ADS<br>0.0 million Passengers",
                    "ALB<br>0.0 million Passengers",
                    "AMA<br>0.0 million Passengers",
                    "ANC<br>0.0 million Passengers",
                    "ATL<br>0.0 million Passengers",
                    "ATW<br>0.0 million Passengers",
                    "AUS<br>0.0 million Passengers",
                    "BDL<br>0.0 million Passengers",
                    "BFI<br>0.0 million Passengers",
                    "BHM<br>0.0 million Passengers",
                    "BIL<br>0.0 million Passengers",
                    "ADM<br>0.0 million Passengers",
                    "BMI<br>0.0 million Passengers",
                    "BOS<br>0.0 million Passengers",
                    "BTR<br>0.0 million Passengers",
                    "BTV<br>0.0 million Passengers",
                    "BUF<br>0.0 million Passengers",
                    "BWI<br>0.0 million Passengers",
                    "BZN<br>0.0 million Passengers",
                    "CAE<br>0.0 million Passengers",
                    "CHA<br>0.0 million Passengers",
                    "CHS<br>0.0 million Passengers",
                    "CID<br>0.0 million Passengers",
                    "CLE<br>0.0 million Passengers",
                    "BNA<br>0.0 million Passengers",
                    "ABQ<br>0.0 million Passengers",
                    "ABI<br>0.0 million Passengers",
                    "ABE<br>0.0 million Passengers",
                    "RWI<br>0.0 million Passengers"
                  ],
                  "type": "scattergeo"
                },
                {
                  "lat": [
                    37.151798248291,
                    41.90779877
                  ],
                  "line": {
                    "color": "rgb(219, 86, 178)",
                    "width": 2
                  },
                  "lon": [
                    -94.4982986450195,
                    -88.24859619
                  ],
                  "mode": "lines",
                  "name": "JLN to DPA",
                  "opacity": 0.7,
                  "type": "scattergeo"
                },
                {
                  "lat": [
                    39.427898407,
                    32.9686012268
                  ],
                  "line": {
                    "color": "rgb(160, 86, 219)",
                    "width": 2
                  },
                  "lon": [
                    -83.792098999,
                    -96.8364028931
                  ],
                  "mode": "lines",
                  "name": "ILN to ADS",
                  "opacity": 0.7,
                  "type": "scattergeo"
                },
                {
                  "lat": [
                    39.427898407,
                    42.7482986450195
                  ],
                  "line": {
                    "color": "rgb(219, 86, 178)",
                    "width": 2
                  },
                  "lon": [
                    -83.792098999,
                    -73.8016967773438
                  ],
                  "mode": "lines",
                  "name": "ILN to ALB",
                  "opacity": 0.7,
                  "type": "scattergeo"
                },
                {
                  "lat": [
                    39.427898407,
                    35.2193984985352
                  ],
                  "line": {
                    "color": "rgb(219, 94, 86)",
                    "width": 2
                  },
                  "lon": [
                    -83.792098999,
                    -101.706001281738
                  ],
                  "mode": "lines",
                  "name": "ILN to AMA",
                  "opacity": 0.7,
                  "type": "scattergeo"
                },
                {
                  "lat": [
                    39.427898407,
                    61.1744003295898
                  ],
                  "line": {
                    "color": "rgb(219, 194, 86)",
                    "width": 2
                  },
                  "lon": [
                    -83.792098999,
                    -149.996002197266
                  ],
                  "mode": "lines",
                  "name": "ILN to ANC",
                  "opacity": 0.7,
                  "type": "scattergeo"
                },
                {
                  "lat": [
                    39.427898407,
                    33.6366996765137
                  ],
                  "line": {
                    "color": "rgb(145, 219, 86)",
                    "width": 2
                  },
                  "lon": [
                    -83.792098999,
                    -84.4281005859375
                  ],
                  "mode": "lines",
                  "name": "ILN to ATL",
                  "opacity": 0.7,
                  "type": "scattergeo"
                },
                {
                  "lat": [
                    39.427898407,
                    44.2580986023
                  ],
                  "line": {
                    "color": "rgb(86, 219, 127)",
                    "width": 2
                  },
                  "lon": [
                    -83.792098999,
                    -88.5190963745
                  ],
                  "mode": "lines",
                  "name": "ILN to ATW",
                  "opacity": 0.7,
                  "type": "scattergeo"
                },
                {
                  "lat": [
                    39.427898407,
                    30.1944999694824
                  ],
                  "line": {
                    "color": "rgb(86, 211, 219)",
                    "width": 2
                  },
                  "lon": [
                    -83.792098999,
                    -97.6698989868164
                  ],
                  "mode": "lines",
                  "name": "ILN to AUS",
                  "opacity": 0.7,
                  "type": "scattergeo"
                },
                {
                  "lat": [
                    39.427898407,
                    41.9388999939
                  ],
                  "line": {
                    "color": "rgb(86, 111, 219)",
                    "width": 2
                  },
                  "lon": [
                    -83.792098999,
                    -72.6831970215
                  ],
                  "mode": "lines",
                  "name": "ILN to BDL",
                  "opacity": 0.7,
                  "type": "scattergeo"
                },
                {
                  "lat": [
                    39.427898407,
                    47.5299987792969
                  ],
                  "line": {
                    "color": "rgb(160, 86, 219)",
                    "width": 2
                  },
                  "lon": [
                    -83.792098999,
                    -122.302001953125
                  ],
                  "mode": "lines",
                  "name": "ILN to BFI",
                  "opacity": 0.7,
                  "type": "scattergeo"
                },
                {
                  "lat": [
                    39.427898407,
                    33.56290054
                  ],
                  "line": {
                    "color": "rgb(219, 86, 178)",
                    "width": 2
                  },
                  "lon": [
                    -83.792098999,
                    -86.75350189
                  ],
                  "mode": "lines",
                  "name": "ILN to BHM",
                  "opacity": 0.7,
                  "type": "scattergeo"
                },
                {
                  "lat": [
                    39.427898407,
                    45.8077011108398
                  ],
                  "line": {
                    "color": "rgb(219, 94, 86)",
                    "width": 2
                  },
                  "lon": [
                    -83.792098999,
                    -108.542999267578
                  ],
                  "mode": "lines",
                  "name": "ILN to BIL",
                  "opacity": 0.7,
                  "type": "scattergeo"
                },
                {
                  "lat": [
                    39.427898407,
                    34.30301
                  ],
                  "line": {
                    "color": "rgb(86, 111, 219)",
                    "width": 2
                  },
                  "lon": [
                    -83.792098999,
                    -97.0196342
                  ],
                  "mode": "lines",
                  "name": "ILN to ADM",
                  "opacity": 0.7,
                  "type": "scattergeo"
                },
                {
                  "lat": [
                    39.427898407,
                    40.47710037
                  ],
                  "line": {
                    "color": "rgb(219, 194, 86)",
                    "width": 2
                  },
                  "lon": [
                    -83.792098999,
                    -88.91590118
                  ],
                  "mode": "lines",
                  "name": "ILN to BMI",
                  "opacity": 0.7,
                  "type": "scattergeo"
                },
                {
                  "lat": [
                    39.427898407,
                    42.36429977
                  ],
                  "line": {
                    "color": "rgb(86, 219, 127)",
                    "width": 2
                  },
                  "lon": [
                    -83.792098999,
                    -71.00520325
                  ],
                  "mode": "lines",
                  "name": "ILN to BOS",
                  "opacity": 0.7,
                  "type": "scattergeo"
                },
                {
                  "lat": [
                    39.427898407,
                    30.53319931
                  ],
                  "line": {
                    "color": "rgb(86, 211, 219)",
                    "width": 2
                  },
                  "lon": [
                    -83.792098999,
                    -91.14959717
                  ],
                  "mode": "lines",
                  "name": "ILN to BTR",
                  "opacity": 0.7,
                  "type": "scattergeo"
                },
                {
                  "lat": [
                    39.427898407,
                    44.4719009399
                  ],
                  "line": {
                    "color": "rgb(86, 111, 219)",
                    "width": 2
                  },
                  "lon": [
                    -83.792098999,
                    -73.1532974243
                  ],
                  "mode": "lines",
                  "name": "ILN to BTV",
                  "opacity": 0.7,
                  "type": "scattergeo"
                },
                {
                  "lat": [
                    39.427898407,
                    42.94049835
                  ],
                  "line": {
                    "color": "rgb(160, 86, 219)",
                    "width": 2
                  },
                  "lon": [
                    -83.792098999,
                    -78.73220062
                  ],
                  "mode": "lines",
                  "name": "ILN to BUF",
                  "opacity": 0.7,
                  "type": "scattergeo"
                },
                {
                  "lat": [
                    39.427898407,
                    39.17539978
                  ],
                  "line": {
                    "color": "rgb(219, 86, 178)",
                    "width": 2
                  },
                  "lon": [
                    -83.792098999,
                    -76.66829681
                  ],
                  "mode": "lines",
                  "name": "ILN to BWI",
                  "opacity": 0.7,
                  "type": "scattergeo"
                },
                {
                  "lat": [
                    39.427898407,
                    45.77750015
                  ],
                  "line": {
                    "color": "rgb(219, 94, 86)",
                    "width": 2
                  },
                  "lon": [
                    -83.792098999,
                    -111.1529999
                  ],
                  "mode": "lines",
                  "name": "ILN to BZN",
                  "opacity": 0.7,
                  "type": "scattergeo"
                },
                {
                  "lat": [
                    39.427898407,
                    33.9388008117676
                  ],
                  "line": {
                    "color": "rgb(219, 194, 86)",
                    "width": 2
                  },
                  "lon": [
                    -83.792098999,
                    -81.119499206543
                  ],
                  "mode": "lines",
                  "name": "ILN to CAE",
                  "opacity": 0.7,
                  "type": "scattergeo"
                },
                {
                  "lat": [
                    39.427898407,
                    35.0353012084961
                  ],
                  "line": {
                    "color": "rgb(145, 219, 86)",
                    "width": 2
                  },
                  "lon": [
                    -83.792098999,
                    -85.2037963867188
                  ],
                  "mode": "lines",
                  "name": "ILN to CHA",
                  "opacity": 0.7,
                  "type": "scattergeo"
                },
                {
                  "lat": [
                    39.427898407,
                    32.89860153
                  ],
                  "line": {
                    "color": "rgb(86, 219, 127)",
                    "width": 2
                  },
                  "lon": [
                    -83.792098999,
                    -80.04049683
                  ],
                  "mode": "lines",
                  "name": "ILN to CHS",
                  "opacity": 0.7,
                  "type": "scattergeo"
                },
                {
                  "lat": [
                    39.427898407,
                    41.8847007751465
                  ],
                  "line": {
                    "color": "rgb(86, 211, 219)",
                    "width": 2
                  },
                  "lon": [
                    -83.792098999,
                    -91.7108001708984
                  ],
                  "mode": "lines",
                  "name": "ILN to CID",
                  "opacity": 0.7,
                  "type": "scattergeo"
                },
                {
                  "lat": [
                    39.427898407,
                    41.4117012024
                  ],
                  "line": {
                    "color": "rgb(86, 111, 219)",
                    "width": 2
                  },
                  "lon": [
                    -83.792098999,
                    -81.8498001099
                  ],
                  "mode": "lines",
                  "name": "ILN to CLE",
                  "opacity": 0.7,
                  "type": "scattergeo"
                },
                {
                  "lat": [
                    39.427898407,
                    36.1245002746582
                  ],
                  "line": {
                    "color": "rgb(145, 219, 86)",
                    "width": 2
                  },
                  "lon": [
                    -83.792098999,
                    -86.6781997680664
                  ],
                  "mode": "lines",
                  "name": "ILN to BNA",
                  "opacity": 0.7,
                  "type": "scattergeo"
                },
                {
                  "lat": [
                    39.427898407,
                    35.0401992797852
                  ],
                  "line": {
                    "color": "rgb(86, 211, 219)",
                    "width": 2
                  },
                  "lon": [
                    -83.792098999,
                    -106.609001159668
                  ],
                  "mode": "lines",
                  "name": "ILN to ABQ",
                  "opacity": 0.7,
                  "type": "scattergeo"
                },
                {
                  "lat": [
                    39.427898407,
                    32.4113006592
                  ],
                  "line": {
                    "color": "rgb(86, 219, 127)",
                    "width": 2
                  },
                  "lon": [
                    -83.792098999,
                    -99.6819000244
                  ],
                  "mode": "lines",
                  "name": "ILN to ABI",
                  "opacity": 0.7,
                  "type": "scattergeo"
                },
                {
                  "lat": [
                    39.427898407,
                    40.652099609375
                  ],
                  "line": {
                    "color": "rgb(145, 219, 86)",
                    "width": 2
                  },
                  "lon": [
                    -83.792098999,
                    -75.440803527832
                  ],
                  "mode": "lines",
                  "name": "ILN to ABE",
                  "opacity": 0.7,
                  "type": "scattergeo"
                },
                {
                  "lat": [
                    39.67869949,
                    35.8563003540039
                  ],
                  "line": {
                    "color": "rgb(160, 86, 219)",
                    "width": 2
                  },
                  "lon": [
                    -75.60649872,
                    -77.8918991088867
                  ],
                  "mode": "lines",
                  "name": "ILG to RWI",
                  "opacity": 0.7,
                  "type": "scattergeo"
                }
              ],
              "layout": {
                "geo": {
                  "coastlinecolor": "Black",
                  "landcolor": "rgb(217, 217, 217)",
                  "projection": {
                    "type": "albers usa"
                  },
                  "scope": "usa",
                  "showcoastlines": true,
                  "showland": true
                },
                "showlegend": true,
                "template": {
                  "data": {
                    "bar": [
                      {
                        "error_x": {
                          "color": "#2a3f5f"
                        },
                        "error_y": {
                          "color": "#2a3f5f"
                        },
                        "marker": {
                          "line": {
                            "color": "#E5ECF6",
                            "width": 0.5
                          },
                          "pattern": {
                            "fillmode": "overlay",
                            "size": 10,
                            "solidity": 0.2
                          }
                        },
                        "type": "bar"
                      }
                    ],
                    "barpolar": [
                      {
                        "marker": {
                          "line": {
                            "color": "#E5ECF6",
                            "width": 0.5
                          },
                          "pattern": {
                            "fillmode": "overlay",
                            "size": 10,
                            "solidity": 0.2
                          }
                        },
                        "type": "barpolar"
                      }
                    ],
                    "carpet": [
                      {
                        "aaxis": {
                          "endlinecolor": "#2a3f5f",
                          "gridcolor": "white",
                          "linecolor": "white",
                          "minorgridcolor": "white",
                          "startlinecolor": "#2a3f5f"
                        },
                        "baxis": {
                          "endlinecolor": "#2a3f5f",
                          "gridcolor": "white",
                          "linecolor": "white",
                          "minorgridcolor": "white",
                          "startlinecolor": "#2a3f5f"
                        },
                        "type": "carpet"
                      }
                    ],
                    "choropleth": [
                      {
                        "colorbar": {
                          "outlinewidth": 0,
                          "ticks": ""
                        },
                        "type": "choropleth"
                      }
                    ],
                    "contour": [
                      {
                        "colorbar": {
                          "outlinewidth": 0,
                          "ticks": ""
                        },
                        "colorscale": [
                          [
                            0,
                            "#0d0887"
                          ],
                          [
                            0.1111111111111111,
                            "#46039f"
                          ],
                          [
                            0.2222222222222222,
                            "#7201a8"
                          ],
                          [
                            0.3333333333333333,
                            "#9c179e"
                          ],
                          [
                            0.4444444444444444,
                            "#bd3786"
                          ],
                          [
                            0.5555555555555556,
                            "#d8576b"
                          ],
                          [
                            0.6666666666666666,
                            "#ed7953"
                          ],
                          [
                            0.7777777777777778,
                            "#fb9f3a"
                          ],
                          [
                            0.8888888888888888,
                            "#fdca26"
                          ],
                          [
                            1,
                            "#f0f921"
                          ]
                        ],
                        "type": "contour"
                      }
                    ],
                    "contourcarpet": [
                      {
                        "colorbar": {
                          "outlinewidth": 0,
                          "ticks": ""
                        },
                        "type": "contourcarpet"
                      }
                    ],
                    "heatmap": [
                      {
                        "colorbar": {
                          "outlinewidth": 0,
                          "ticks": ""
                        },
                        "colorscale": [
                          [
                            0,
                            "#0d0887"
                          ],
                          [
                            0.1111111111111111,
                            "#46039f"
                          ],
                          [
                            0.2222222222222222,
                            "#7201a8"
                          ],
                          [
                            0.3333333333333333,
                            "#9c179e"
                          ],
                          [
                            0.4444444444444444,
                            "#bd3786"
                          ],
                          [
                            0.5555555555555556,
                            "#d8576b"
                          ],
                          [
                            0.6666666666666666,
                            "#ed7953"
                          ],
                          [
                            0.7777777777777778,
                            "#fb9f3a"
                          ],
                          [
                            0.8888888888888888,
                            "#fdca26"
                          ],
                          [
                            1,
                            "#f0f921"
                          ]
                        ],
                        "type": "heatmap"
                      }
                    ],
                    "heatmapgl": [
                      {
                        "colorbar": {
                          "outlinewidth": 0,
                          "ticks": ""
                        },
                        "colorscale": [
                          [
                            0,
                            "#0d0887"
                          ],
                          [
                            0.1111111111111111,
                            "#46039f"
                          ],
                          [
                            0.2222222222222222,
                            "#7201a8"
                          ],
                          [
                            0.3333333333333333,
                            "#9c179e"
                          ],
                          [
                            0.4444444444444444,
                            "#bd3786"
                          ],
                          [
                            0.5555555555555556,
                            "#d8576b"
                          ],
                          [
                            0.6666666666666666,
                            "#ed7953"
                          ],
                          [
                            0.7777777777777778,
                            "#fb9f3a"
                          ],
                          [
                            0.8888888888888888,
                            "#fdca26"
                          ],
                          [
                            1,
                            "#f0f921"
                          ]
                        ],
                        "type": "heatmapgl"
                      }
                    ],
                    "histogram": [
                      {
                        "marker": {
                          "pattern": {
                            "fillmode": "overlay",
                            "size": 10,
                            "solidity": 0.2
                          }
                        },
                        "type": "histogram"
                      }
                    ],
                    "histogram2d": [
                      {
                        "colorbar": {
                          "outlinewidth": 0,
                          "ticks": ""
                        },
                        "colorscale": [
                          [
                            0,
                            "#0d0887"
                          ],
                          [
                            0.1111111111111111,
                            "#46039f"
                          ],
                          [
                            0.2222222222222222,
                            "#7201a8"
                          ],
                          [
                            0.3333333333333333,
                            "#9c179e"
                          ],
                          [
                            0.4444444444444444,
                            "#bd3786"
                          ],
                          [
                            0.5555555555555556,
                            "#d8576b"
                          ],
                          [
                            0.6666666666666666,
                            "#ed7953"
                          ],
                          [
                            0.7777777777777778,
                            "#fb9f3a"
                          ],
                          [
                            0.8888888888888888,
                            "#fdca26"
                          ],
                          [
                            1,
                            "#f0f921"
                          ]
                        ],
                        "type": "histogram2d"
                      }
                    ],
                    "histogram2dcontour": [
                      {
                        "colorbar": {
                          "outlinewidth": 0,
                          "ticks": ""
                        },
                        "colorscale": [
                          [
                            0,
                            "#0d0887"
                          ],
                          [
                            0.1111111111111111,
                            "#46039f"
                          ],
                          [
                            0.2222222222222222,
                            "#7201a8"
                          ],
                          [
                            0.3333333333333333,
                            "#9c179e"
                          ],
                          [
                            0.4444444444444444,
                            "#bd3786"
                          ],
                          [
                            0.5555555555555556,
                            "#d8576b"
                          ],
                          [
                            0.6666666666666666,
                            "#ed7953"
                          ],
                          [
                            0.7777777777777778,
                            "#fb9f3a"
                          ],
                          [
                            0.8888888888888888,
                            "#fdca26"
                          ],
                          [
                            1,
                            "#f0f921"
                          ]
                        ],
                        "type": "histogram2dcontour"
                      }
                    ],
                    "mesh3d": [
                      {
                        "colorbar": {
                          "outlinewidth": 0,
                          "ticks": ""
                        },
                        "type": "mesh3d"
                      }
                    ],
                    "parcoords": [
                      {
                        "line": {
                          "colorbar": {
                            "outlinewidth": 0,
                            "ticks": ""
                          }
                        },
                        "type": "parcoords"
                      }
                    ],
                    "pie": [
                      {
                        "automargin": true,
                        "type": "pie"
                      }
                    ],
                    "scatter": [
                      {
                        "fillpattern": {
                          "fillmode": "overlay",
                          "size": 10,
                          "solidity": 0.2
                        },
                        "type": "scatter"
                      }
                    ],
                    "scatter3d": [
                      {
                        "line": {
                          "colorbar": {
                            "outlinewidth": 0,
                            "ticks": ""
                          }
                        },
                        "marker": {
                          "colorbar": {
                            "outlinewidth": 0,
                            "ticks": ""
                          }
                        },
                        "type": "scatter3d"
                      }
                    ],
                    "scattercarpet": [
                      {
                        "marker": {
                          "colorbar": {
                            "outlinewidth": 0,
                            "ticks": ""
                          }
                        },
                        "type": "scattercarpet"
                      }
                    ],
                    "scattergeo": [
                      {
                        "marker": {
                          "colorbar": {
                            "outlinewidth": 0,
                            "ticks": ""
                          }
                        },
                        "type": "scattergeo"
                      }
                    ],
                    "scattergl": [
                      {
                        "marker": {
                          "colorbar": {
                            "outlinewidth": 0,
                            "ticks": ""
                          }
                        },
                        "type": "scattergl"
                      }
                    ],
                    "scattermapbox": [
                      {
                        "marker": {
                          "colorbar": {
                            "outlinewidth": 0,
                            "ticks": ""
                          }
                        },
                        "type": "scattermapbox"
                      }
                    ],
                    "scatterpolar": [
                      {
                        "marker": {
                          "colorbar": {
                            "outlinewidth": 0,
                            "ticks": ""
                          }
                        },
                        "type": "scatterpolar"
                      }
                    ],
                    "scatterpolargl": [
                      {
                        "marker": {
                          "colorbar": {
                            "outlinewidth": 0,
                            "ticks": ""
                          }
                        },
                        "type": "scatterpolargl"
                      }
                    ],
                    "scatterternary": [
                      {
                        "marker": {
                          "colorbar": {
                            "outlinewidth": 0,
                            "ticks": ""
                          }
                        },
                        "type": "scatterternary"
                      }
                    ],
                    "surface": [
                      {
                        "colorbar": {
                          "outlinewidth": 0,
                          "ticks": ""
                        },
                        "colorscale": [
                          [
                            0,
                            "#0d0887"
                          ],
                          [
                            0.1111111111111111,
                            "#46039f"
                          ],
                          [
                            0.2222222222222222,
                            "#7201a8"
                          ],
                          [
                            0.3333333333333333,
                            "#9c179e"
                          ],
                          [
                            0.4444444444444444,
                            "#bd3786"
                          ],
                          [
                            0.5555555555555556,
                            "#d8576b"
                          ],
                          [
                            0.6666666666666666,
                            "#ed7953"
                          ],
                          [
                            0.7777777777777778,
                            "#fb9f3a"
                          ],
                          [
                            0.8888888888888888,
                            "#fdca26"
                          ],
                          [
                            1,
                            "#f0f921"
                          ]
                        ],
                        "type": "surface"
                      }
                    ],
                    "table": [
                      {
                        "cells": {
                          "fill": {
                            "color": "#EBF0F8"
                          },
                          "line": {
                            "color": "white"
                          }
                        },
                        "header": {
                          "fill": {
                            "color": "#C8D4E3"
                          },
                          "line": {
                            "color": "white"
                          }
                        },
                        "type": "table"
                      }
                    ]
                  },
                  "layout": {
                    "annotationdefaults": {
                      "arrowcolor": "#2a3f5f",
                      "arrowhead": 0,
                      "arrowwidth": 1
                    },
                    "autotypenumbers": "strict",
                    "coloraxis": {
                      "colorbar": {
                        "outlinewidth": 0,
                        "ticks": ""
                      }
                    },
                    "colorscale": {
                      "diverging": [
                        [
                          0,
                          "#8e0152"
                        ],
                        [
                          0.1,
                          "#c51b7d"
                        ],
                        [
                          0.2,
                          "#de77ae"
                        ],
                        [
                          0.3,
                          "#f1b6da"
                        ],
                        [
                          0.4,
                          "#fde0ef"
                        ],
                        [
                          0.5,
                          "#f7f7f7"
                        ],
                        [
                          0.6,
                          "#e6f5d0"
                        ],
                        [
                          0.7,
                          "#b8e186"
                        ],
                        [
                          0.8,
                          "#7fbc41"
                        ],
                        [
                          0.9,
                          "#4d9221"
                        ],
                        [
                          1,
                          "#276419"
                        ]
                      ],
                      "sequential": [
                        [
                          0,
                          "#0d0887"
                        ],
                        [
                          0.1111111111111111,
                          "#46039f"
                        ],
                        [
                          0.2222222222222222,
                          "#7201a8"
                        ],
                        [
                          0.3333333333333333,
                          "#9c179e"
                        ],
                        [
                          0.4444444444444444,
                          "#bd3786"
                        ],
                        [
                          0.5555555555555556,
                          "#d8576b"
                        ],
                        [
                          0.6666666666666666,
                          "#ed7953"
                        ],
                        [
                          0.7777777777777778,
                          "#fb9f3a"
                        ],
                        [
                          0.8888888888888888,
                          "#fdca26"
                        ],
                        [
                          1,
                          "#f0f921"
                        ]
                      ],
                      "sequentialminus": [
                        [
                          0,
                          "#0d0887"
                        ],
                        [
                          0.1111111111111111,
                          "#46039f"
                        ],
                        [
                          0.2222222222222222,
                          "#7201a8"
                        ],
                        [
                          0.3333333333333333,
                          "#9c179e"
                        ],
                        [
                          0.4444444444444444,
                          "#bd3786"
                        ],
                        [
                          0.5555555555555556,
                          "#d8576b"
                        ],
                        [
                          0.6666666666666666,
                          "#ed7953"
                        ],
                        [
                          0.7777777777777778,
                          "#fb9f3a"
                        ],
                        [
                          0.8888888888888888,
                          "#fdca26"
                        ],
                        [
                          1,
                          "#f0f921"
                        ]
                      ]
                    },
                    "colorway": [
                      "#636efa",
                      "#EF553B",
                      "#00cc96",
                      "#ab63fa",
                      "#FFA15A",
                      "#19d3f3",
                      "#FF6692",
                      "#B6E880",
                      "#FF97FF",
                      "#FECB52"
                    ],
                    "font": {
                      "color": "#2a3f5f"
                    },
                    "geo": {
                      "bgcolor": "white",
                      "lakecolor": "white",
                      "landcolor": "#E5ECF6",
                      "showlakes": true,
                      "showland": true,
                      "subunitcolor": "white"
                    },
                    "hoverlabel": {
                      "align": "left"
                    },
                    "hovermode": "closest",
                    "mapbox": {
                      "style": "light"
                    },
                    "paper_bgcolor": "white",
                    "plot_bgcolor": "#E5ECF6",
                    "polar": {
                      "angularaxis": {
                        "gridcolor": "white",
                        "linecolor": "white",
                        "ticks": ""
                      },
                      "bgcolor": "#E5ECF6",
                      "radialaxis": {
                        "gridcolor": "white",
                        "linecolor": "white",
                        "ticks": ""
                      }
                    },
                    "scene": {
                      "xaxis": {
                        "backgroundcolor": "#E5ECF6",
                        "gridcolor": "white",
                        "gridwidth": 2,
                        "linecolor": "white",
                        "showbackground": true,
                        "ticks": "",
                        "zerolinecolor": "white"
                      },
                      "yaxis": {
                        "backgroundcolor": "#E5ECF6",
                        "gridcolor": "white",
                        "gridwidth": 2,
                        "linecolor": "white",
                        "showbackground": true,
                        "ticks": "",
                        "zerolinecolor": "white"
                      },
                      "zaxis": {
                        "backgroundcolor": "#E5ECF6",
                        "gridcolor": "white",
                        "gridwidth": 2,
                        "linecolor": "white",
                        "showbackground": true,
                        "ticks": "",
                        "zerolinecolor": "white"
                      }
                    },
                    "shapedefaults": {
                      "line": {
                        "color": "#2a3f5f"
                      }
                    },
                    "ternary": {
                      "aaxis": {
                        "gridcolor": "white",
                        "linecolor": "white",
                        "ticks": ""
                      },
                      "baxis": {
                        "gridcolor": "white",
                        "linecolor": "white",
                        "ticks": ""
                      },
                      "bgcolor": "#E5ECF6",
                      "caxis": {
                        "gridcolor": "white",
                        "linecolor": "white",
                        "ticks": ""
                      }
                    },
                    "title": {
                      "x": 0.05
                    },
                    "xaxis": {
                      "automargin": true,
                      "gridcolor": "white",
                      "linecolor": "white",
                      "ticks": "",
                      "title": {
                        "standoff": 15
                      },
                      "zerolinecolor": "white",
                      "zerolinewidth": 2
                    },
                    "yaxis": {
                      "automargin": true,
                      "gridcolor": "white",
                      "linecolor": "white",
                      "ticks": "",
                      "title": {
                        "standoff": 15
                      },
                      "zerolinecolor": "white",
                      "zerolinewidth": 2
                    }
                  }
                },
                "title": {
                  "text": "Bottom 30 Flights (In Terms of Passengers)"
                }
              }
            }
          },
          "metadata": {},
          "output_type": "display_data"
        }
      ],
      "source": [
        "top_fig = plot_top_flights(df, top_n=30)\n",
        "bottom_fig = plot_bottom_flights(df, bottom_n=30)\n",
        "\n",
        "# Mostrare le mappe affiancate\n",
        "top_fig.show()\n",
        "bottom_fig.show()"
      ]
    },
    {
      "cell_type": "code",
      "execution_count": 21,
      "metadata": {},
      "outputs": [],
      "source": [
        "# Initialize the flight network\n",
        "flight_network = FlightNetwork()\n",
        "flight_network.add_nodes_and_edges(df['Origin_airport'], df['Destination_airport'])\n"
      ]
    },
    {
      "cell_type": "code",
      "execution_count": 22,
      "metadata": {},
      "outputs": [],
      "source": [
        "### manca mappa"
      ]
    },
    {
      "cell_type": "code",
      "execution_count": null,
      "metadata": {},
      "outputs": [],
      "source": []
    }
  ],
  "metadata": {
    "colab": {
      "provenance": []
    },
    "kernelspec": {
      "display_name": "Python 3",
      "language": "python",
      "name": "python3"
    },
    "language_info": {
      "codemirror_mode": {
        "name": "ipython",
        "version": 3
      },
      "file_extension": ".py",
      "mimetype": "text/x-python",
      "name": "python",
      "nbconvert_exporter": "python",
      "pygments_lexer": "ipython3",
      "version": "3.7.12"
    }
  },
  "nbformat": 4,
  "nbformat_minor": 0
}
