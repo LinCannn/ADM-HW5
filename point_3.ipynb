{
 "cells": [
  {
   "cell_type": "markdown",
   "metadata": {},
   "source": [
    "# 3. Finding Best Routes (Q3)\n",
    "\n",
    "## Task: Finding the Best Flight Routes\n",
    "\n",
    "### Problem Statement\n",
    "\n",
    "When planning to fly to a specific city, the goal is to find the **most efficient and fastest flight** that minimizes the **total distance flown**. \n",
    "\n",
    "The focus is on flights operating on a **specific day**.\n",
    "\n",
    "#### Key Considerations:\n",
    "- Each city may have **multiple airports**.  \n",
    "- The function should compute the **best route** for every possible pair of airports between the two cities.\n",
    "\n",
    "For example, if city **A** has airports \\( a_1, a_2 \\) and city **B** has airports \\( b_1, b_2 \\), the function should calculate the best routes for:\n",
    "-  `a₁ → b₁`\n",
    "-  `a₁ → b₂`\n",
    "-  `a₂ → b₁`\n",
    "-  `a₂ → b₂`\n",
    "\n",
    "If no valid route exists for a given pair, it should be reported as **\"No route found\"**.\n",
    "\n",
    "---\n",
    "\n",
    "### Function Inputs:\n",
    "1. **Flights network**: A graph representation of the flight data (airports and distances).\n",
    "2. **Origin city name**: The starting city.\n",
    "3. **Destination city name**: The target city.\n",
    "4. **Considered Date**: The specific date for which flights are being analyzed, in `yyyy-mm-dd` format.\n",
    "\n",
    "---\n",
    "\n",
    "### Function Output:\n",
    "A table with the following three columns:\n",
    "1. **`Origin_city_airport`**: The code of the origin airport.\n",
    "2. **`Destination_city_airport`**: The code of the destination airport.\n",
    "3. **`Best_route`**: A list of airport names showing the order of travel in the optimal route.  \n",
    "   - The route should minimize the total distance flown.  \n",
    "   - If no valid route exists, the entry should display **\"No route found\"**.\n",
    "\n",
    "____\n",
    "\n"
   ]
  },
  {
   "cell_type": "code",
   "execution_count": 28,
   "metadata": {},
   "outputs": [],
   "source": [
    "import flight_network_for_3\n",
    "from flight_network_for_3 import load_and_build_network\n",
    "from flight_network_for_3 import find_best_routes"
   ]
  },
  {
   "cell_type": "code",
   "execution_count": null,
   "metadata": {},
   "outputs": [
    {
     "name": "stdout",
     "output_type": "stream",
     "text": [
      "Number of flights on 2008-10-01: 17485\n",
      "Best Routes Between Cities:\n",
      "  Origin_city_airport Destination_city_airport       Best_route\n",
      "0                 JFK                      LAX  JFK → EWR → LAX\n",
      "1                 LGA                      LAX  LGA → MCI → LAX\n",
      "2                 JRA                      LAX   No route found\n",
      "3                 JRB                      LAX  JRB → EWR → LAX\n",
      "4                 TSS                      LAX  TSS → EWR → LAX\n",
      "5                 WTC                      LAX   No route found\n"
     ]
    }
   ],
   "source": [
    "file_path = 'C:/Users/EMILIO/Documents/università/ADM/ADM-HW5/ADM-HW5/Airports2.csv'  \n",
    "\n",
    "data = \"2008-10-01\"  \n",
    "origin_city = \"New York, NY\"\n",
    "destination_city = \"Los Angeles, CA\"\n",
    "\n",
    "\n",
    "network, df = load_and_build_network(file_path, data)\n",
    "results = find_best_routes(network, df, origin_city, destination_city)\n",
    "\n",
    "print(\"Best Routes Between Cities:\")\n",
    "print(results)\n"
   ]
  }
 ],
 "metadata": {
  "kernelspec": {
   "display_name": "Python 3",
   "language": "python",
   "name": "python3"
  },
  "language_info": {
   "codemirror_mode": {
    "name": "ipython",
    "version": 3
   },
   "file_extension": ".py",
   "mimetype": "text/x-python",
   "name": "python",
   "nbconvert_exporter": "python",
   "pygments_lexer": "ipython3",
   "version": "3.12.1"
  }
 },
 "nbformat": 4,
 "nbformat_minor": 2
}
